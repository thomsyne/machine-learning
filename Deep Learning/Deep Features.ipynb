{
 "cells": [
  {
   "cell_type": "code",
   "execution_count": 1,
   "id": "48d10bca",
   "metadata": {},
   "outputs": [],
   "source": [
    "import turicreate as tc"
   ]
  },
  {
   "cell_type": "code",
   "execution_count": 43,
   "id": "497327fc",
   "metadata": {},
   "outputs": [],
   "source": [
    "image_train = tc.SFrame('image_train_data/')\n",
    "image_test = tc.SFrame('image_test_data/')"
   ]
  },
  {
   "cell_type": "code",
   "execution_count": 10,
   "id": "ae46b9f3",
   "metadata": {},
   "outputs": [],
   "source": [
    "sketch = tc.Sketch(image_train['label'])"
   ]
  },
  {
   "cell_type": "code",
   "execution_count": 11,
   "id": "a6a38da7",
   "metadata": {},
   "outputs": [
    {
     "data": {
      "text/plain": [
       "\n",
       "+------------------+-------+----------+\n",
       "|       item       | value | is exact |\n",
       "+------------------+-------+----------+\n",
       "|      Length      |  2005 |   Yes    |\n",
       "| # Missing Values |   0   |   Yes    |\n",
       "| # unique values  |   4   |    No    |\n",
       "+------------------+-------+----------+\n",
       "\n",
       "Most frequent items:\n",
       "+------------+-------+\n",
       "|   value    | count |\n",
       "+------------+-------+\n",
       "|    cat     |  509  |\n",
       "|    dog     |  509  |\n",
       "| automobile |  509  |\n",
       "|    bird    |  478  |\n",
       "+------------+-------+\n"
      ]
     },
     "execution_count": 11,
     "metadata": {},
     "output_type": "execute_result"
    }
   ],
   "source": [
    "sketch"
   ]
  },
  {
   "cell_type": "markdown",
   "id": "2ccd79c0",
   "metadata": {},
   "source": [
    "# Split the dataset"
   ]
  },
  {
   "cell_type": "code",
   "execution_count": 16,
   "id": "63673e6d",
   "metadata": {},
   "outputs": [
    {
     "data": {
      "text/html": [
       "<div style=\"max-height:1000px;max-width:1500px;overflow:auto;\"><table frame=\"box\" rules=\"cols\">\n",
       "    <tr>\n",
       "        <th style=\"padding-left: 1em; padding-right: 1em; text-align: center\">id</th>\n",
       "        <th style=\"padding-left: 1em; padding-right: 1em; text-align: center\">image</th>\n",
       "        <th style=\"padding-left: 1em; padding-right: 1em; text-align: center\">label</th>\n",
       "        <th style=\"padding-left: 1em; padding-right: 1em; text-align: center\">deep_features</th>\n",
       "        <th style=\"padding-left: 1em; padding-right: 1em; text-align: center\">image_array</th>\n",
       "    </tr>\n",
       "    <tr>\n",
       "        <td style=\"padding-left: 1em; padding-right: 1em; text-align: center; vertical-align: top\">24</td>\n",
       "        <td style=\"padding-left: 1em; padding-right: 1em; text-align: center; vertical-align: top\">Height: 32 Width: 32</td>\n",
       "        <td style=\"padding-left: 1em; padding-right: 1em; text-align: center; vertical-align: top\">bird</td>\n",
       "        <td style=\"padding-left: 1em; padding-right: 1em; text-align: center; vertical-align: top\">[0.24287176132202148,<br>1.0954537391662598, 0.0, ...</td>\n",
       "        <td style=\"padding-left: 1em; padding-right: 1em; text-align: center; vertical-align: top\">[73.0, 77.0, 58.0, 71.0,<br>68.0, 50.0, 77.0, 69.0, ...</td>\n",
       "    </tr>\n",
       "    <tr>\n",
       "        <td style=\"padding-left: 1em; padding-right: 1em; text-align: center; vertical-align: top\">33</td>\n",
       "        <td style=\"padding-left: 1em; padding-right: 1em; text-align: center; vertical-align: top\">Height: 32 Width: 32</td>\n",
       "        <td style=\"padding-left: 1em; padding-right: 1em; text-align: center; vertical-align: top\">cat</td>\n",
       "        <td style=\"padding-left: 1em; padding-right: 1em; text-align: center; vertical-align: top\">[0.5250879526138306, 0.0,<br>0.0, 0.0, 0.0, 0.0, ...</td>\n",
       "        <td style=\"padding-left: 1em; padding-right: 1em; text-align: center; vertical-align: top\">[7.0, 5.0, 8.0, 7.0, 5.0,<br>8.0, 5.0, 4.0, 6.0, 7.0, ...</td>\n",
       "    </tr>\n",
       "    <tr>\n",
       "        <td style=\"padding-left: 1em; padding-right: 1em; text-align: center; vertical-align: top\">36</td>\n",
       "        <td style=\"padding-left: 1em; padding-right: 1em; text-align: center; vertical-align: top\">Height: 32 Width: 32</td>\n",
       "        <td style=\"padding-left: 1em; padding-right: 1em; text-align: center; vertical-align: top\">cat</td>\n",
       "        <td style=\"padding-left: 1em; padding-right: 1em; text-align: center; vertical-align: top\">[0.5660159587860107, 0.0,<br>0.0, 0.0, 0.0, 0.0, ...</td>\n",
       "        <td style=\"padding-left: 1em; padding-right: 1em; text-align: center; vertical-align: top\">[169.0, 122.0, 65.0,<br>131.0, 108.0, 75.0, ...</td>\n",
       "    </tr>\n",
       "    <tr>\n",
       "        <td style=\"padding-left: 1em; padding-right: 1em; text-align: center; vertical-align: top\">70</td>\n",
       "        <td style=\"padding-left: 1em; padding-right: 1em; text-align: center; vertical-align: top\">Height: 32 Width: 32</td>\n",
       "        <td style=\"padding-left: 1em; padding-right: 1em; text-align: center; vertical-align: top\">dog</td>\n",
       "        <td style=\"padding-left: 1em; padding-right: 1em; text-align: center; vertical-align: top\">[1.129795789718628, 0.0,<br>0.0, 0.7781944870948792, ...</td>\n",
       "        <td style=\"padding-left: 1em; padding-right: 1em; text-align: center; vertical-align: top\">[154.0, 179.0, 152.0,<br>159.0, 183.0, 157.0, ...</td>\n",
       "    </tr>\n",
       "    <tr>\n",
       "        <td style=\"padding-left: 1em; padding-right: 1em; text-align: center; vertical-align: top\">90</td>\n",
       "        <td style=\"padding-left: 1em; padding-right: 1em; text-align: center; vertical-align: top\">Height: 32 Width: 32</td>\n",
       "        <td style=\"padding-left: 1em; padding-right: 1em; text-align: center; vertical-align: top\">bird</td>\n",
       "        <td style=\"padding-left: 1em; padding-right: 1em; text-align: center; vertical-align: top\">[1.7178692817687988, 0.0,<br>0.0, 0.0, 0.0, 0.0, ...</td>\n",
       "        <td style=\"padding-left: 1em; padding-right: 1em; text-align: center; vertical-align: top\">[216.0, 195.0, 180.0,<br>201.0, 178.0, 160.0, ...</td>\n",
       "    </tr>\n",
       "    <tr>\n",
       "        <td style=\"padding-left: 1em; padding-right: 1em; text-align: center; vertical-align: top\">97</td>\n",
       "        <td style=\"padding-left: 1em; padding-right: 1em; text-align: center; vertical-align: top\">Height: 32 Width: 32</td>\n",
       "        <td style=\"padding-left: 1em; padding-right: 1em; text-align: center; vertical-align: top\">automobile</td>\n",
       "        <td style=\"padding-left: 1em; padding-right: 1em; text-align: center; vertical-align: top\">[1.5781855583190918, 0.0,<br>0.0, 0.0, 0.0, 0.0, ...</td>\n",
       "        <td style=\"padding-left: 1em; padding-right: 1em; text-align: center; vertical-align: top\">[33.0, 44.0, 27.0, 29.0,<br>44.0, 31.0, 32.0, 45.0, ...</td>\n",
       "    </tr>\n",
       "    <tr>\n",
       "        <td style=\"padding-left: 1em; padding-right: 1em; text-align: center; vertical-align: top\">107</td>\n",
       "        <td style=\"padding-left: 1em; padding-right: 1em; text-align: center; vertical-align: top\">Height: 32 Width: 32</td>\n",
       "        <td style=\"padding-left: 1em; padding-right: 1em; text-align: center; vertical-align: top\">dog</td>\n",
       "        <td style=\"padding-left: 1em; padding-right: 1em; text-align: center; vertical-align: top\">[0.0, 0.0,<br>0.22067785263061523,  ...</td>\n",
       "        <td style=\"padding-left: 1em; padding-right: 1em; text-align: center; vertical-align: top\">[97.0, 51.0, 31.0, 104.0,<br>58.0, 38.0, 107.0, 61.0, ...</td>\n",
       "    </tr>\n",
       "    <tr>\n",
       "        <td style=\"padding-left: 1em; padding-right: 1em; text-align: center; vertical-align: top\">121</td>\n",
       "        <td style=\"padding-left: 1em; padding-right: 1em; text-align: center; vertical-align: top\">Height: 32 Width: 32</td>\n",
       "        <td style=\"padding-left: 1em; padding-right: 1em; text-align: center; vertical-align: top\">bird</td>\n",
       "        <td style=\"padding-left: 1em; padding-right: 1em; text-align: center; vertical-align: top\">[0.0,<br>0.23753464221954346,  ...</td>\n",
       "        <td style=\"padding-left: 1em; padding-right: 1em; text-align: center; vertical-align: top\">[93.0, 96.0, 88.0, 102.0,<br>106.0, 97.0, 117.0, ...</td>\n",
       "    </tr>\n",
       "    <tr>\n",
       "        <td style=\"padding-left: 1em; padding-right: 1em; text-align: center; vertical-align: top\">136</td>\n",
       "        <td style=\"padding-left: 1em; padding-right: 1em; text-align: center; vertical-align: top\">Height: 32 Width: 32</td>\n",
       "        <td style=\"padding-left: 1em; padding-right: 1em; text-align: center; vertical-align: top\">automobile</td>\n",
       "        <td style=\"padding-left: 1em; padding-right: 1em; text-align: center; vertical-align: top\">[0.0, 0.0, 0.0, 0.0, 0.0,<br>0.0, 7.57378625869751, ...</td>\n",
       "        <td style=\"padding-left: 1em; padding-right: 1em; text-align: center; vertical-align: top\">[35.0, 59.0, 53.0, 36.0,<br>56.0, 56.0, 42.0, 62.0, ...</td>\n",
       "    </tr>\n",
       "    <tr>\n",
       "        <td style=\"padding-left: 1em; padding-right: 1em; text-align: center; vertical-align: top\">138</td>\n",
       "        <td style=\"padding-left: 1em; padding-right: 1em; text-align: center; vertical-align: top\">Height: 32 Width: 32</td>\n",
       "        <td style=\"padding-left: 1em; padding-right: 1em; text-align: center; vertical-align: top\">bird</td>\n",
       "        <td style=\"padding-left: 1em; padding-right: 1em; text-align: center; vertical-align: top\">[0.6589357256889343, 0.0,<br>0.0, 0.0, 0.0, 0.0, ...</td>\n",
       "        <td style=\"padding-left: 1em; padding-right: 1em; text-align: center; vertical-align: top\">[205.0, 193.0, 195.0,<br>200.0, 187.0, 193.0, ...</td>\n",
       "    </tr>\n",
       "</table>\n",
       "[10 rows x 5 columns]<br/>\n",
       "</div>"
      ],
      "text/plain": [
       "Columns:\n",
       "\tid\tint\n",
       "\timage\tImage\n",
       "\tlabel\tstr\n",
       "\tdeep_features\tarray\n",
       "\timage_array\tarray\n",
       "\n",
       "Rows: 10\n",
       "\n",
       "Data:\n",
       "+-----+----------------------+------------+-------------------------------+\n",
       "|  id |        image         |   label    |         deep_features         |\n",
       "+-----+----------------------+------------+-------------------------------+\n",
       "|  24 | Height: 32 Width: 32 |    bird    | [0.24287176132202148, 1.09... |\n",
       "|  33 | Height: 32 Width: 32 |    cat     | [0.5250879526138306, 0.0, ... |\n",
       "|  36 | Height: 32 Width: 32 |    cat     | [0.5660159587860107, 0.0, ... |\n",
       "|  70 | Height: 32 Width: 32 |    dog     | [1.129795789718628, 0.0, 0... |\n",
       "|  90 | Height: 32 Width: 32 |    bird    | [1.7178692817687988, 0.0, ... |\n",
       "|  97 | Height: 32 Width: 32 | automobile | [1.5781855583190918, 0.0, ... |\n",
       "| 107 | Height: 32 Width: 32 |    dog     | [0.0, 0.0, 0.2206778526306... |\n",
       "| 121 | Height: 32 Width: 32 |    bird    | [0.0, 0.23753464221954346,... |\n",
       "| 136 | Height: 32 Width: 32 | automobile | [0.0, 0.0, 0.0, 0.0, 0.0, ... |\n",
       "| 138 | Height: 32 Width: 32 |    bird    | [0.6589357256889343, 0.0, ... |\n",
       "+-----+----------------------+------------+-------------------------------+\n",
       "+-------------------------------+\n",
       "|          image_array          |\n",
       "+-------------------------------+\n",
       "| [73.0, 77.0, 58.0, 71.0, 6... |\n",
       "| [7.0, 5.0, 8.0, 7.0, 5.0, ... |\n",
       "| [169.0, 122.0, 65.0, 131.0... |\n",
       "| [154.0, 179.0, 152.0, 159.... |\n",
       "| [216.0, 195.0, 180.0, 201.... |\n",
       "| [33.0, 44.0, 27.0, 29.0, 4... |\n",
       "| [97.0, 51.0, 31.0, 104.0, ... |\n",
       "| [93.0, 96.0, 88.0, 102.0, ... |\n",
       "| [35.0, 59.0, 53.0, 36.0, 5... |\n",
       "| [205.0, 193.0, 195.0, 200.... |\n",
       "+-------------------------------+\n",
       "[10 rows x 5 columns]"
      ]
     },
     "execution_count": 16,
     "metadata": {},
     "output_type": "execute_result"
    }
   ],
   "source": [
    "image_train.head()"
   ]
  },
  {
   "cell_type": "code",
   "execution_count": 37,
   "id": "30d343c0",
   "metadata": {},
   "outputs": [],
   "source": [
    "cats_only = image_train.filter_by('cat', 'label', exclude=False)\n",
    "dogs_only = image_train.filter_by('dog', 'label', exclude=False)\n",
    "automobiles_only = image_train.filter_by('automobile', 'label', exclude=False)\n",
    "birds_only = image_train.filter_by('bird', 'label', exclude=False)"
   ]
  },
  {
   "cell_type": "code",
   "execution_count": 33,
   "id": "752a6c0a",
   "metadata": {},
   "outputs": [
    {
     "data": {
      "text/html": [
       "<pre>Starting brute force nearest neighbors model training.</pre>"
      ],
      "text/plain": [
       "Starting brute force nearest neighbors model training."
      ]
     },
     "metadata": {},
     "output_type": "display_data"
    },
    {
     "data": {
      "text/html": [
       "<pre>Validating distance components.</pre>"
      ],
      "text/plain": [
       "Validating distance components."
      ]
     },
     "metadata": {},
     "output_type": "display_data"
    },
    {
     "data": {
      "text/html": [
       "<pre>Initializing model data.</pre>"
      ],
      "text/plain": [
       "Initializing model data."
      ]
     },
     "metadata": {},
     "output_type": "display_data"
    },
    {
     "data": {
      "text/html": [
       "<pre>Initializing distances.</pre>"
      ],
      "text/plain": [
       "Initializing distances."
      ]
     },
     "metadata": {},
     "output_type": "display_data"
    },
    {
     "data": {
      "text/html": [
       "<pre>Done.</pre>"
      ],
      "text/plain": [
       "Done."
      ]
     },
     "metadata": {},
     "output_type": "display_data"
    },
    {
     "data": {
      "text/html": [
       "<pre>Starting brute force nearest neighbors model training.</pre>"
      ],
      "text/plain": [
       "Starting brute force nearest neighbors model training."
      ]
     },
     "metadata": {},
     "output_type": "display_data"
    },
    {
     "data": {
      "text/html": [
       "<pre>Validating distance components.</pre>"
      ],
      "text/plain": [
       "Validating distance components."
      ]
     },
     "metadata": {},
     "output_type": "display_data"
    },
    {
     "data": {
      "text/html": [
       "<pre>Initializing model data.</pre>"
      ],
      "text/plain": [
       "Initializing model data."
      ]
     },
     "metadata": {},
     "output_type": "display_data"
    },
    {
     "data": {
      "text/html": [
       "<pre>Initializing distances.</pre>"
      ],
      "text/plain": [
       "Initializing distances."
      ]
     },
     "metadata": {},
     "output_type": "display_data"
    },
    {
     "data": {
      "text/html": [
       "<pre>Done.</pre>"
      ],
      "text/plain": [
       "Done."
      ]
     },
     "metadata": {},
     "output_type": "display_data"
    },
    {
     "data": {
      "text/html": [
       "<pre>Starting brute force nearest neighbors model training.</pre>"
      ],
      "text/plain": [
       "Starting brute force nearest neighbors model training."
      ]
     },
     "metadata": {},
     "output_type": "display_data"
    },
    {
     "data": {
      "text/html": [
       "<pre>Validating distance components.</pre>"
      ],
      "text/plain": [
       "Validating distance components."
      ]
     },
     "metadata": {},
     "output_type": "display_data"
    },
    {
     "data": {
      "text/html": [
       "<pre>Initializing model data.</pre>"
      ],
      "text/plain": [
       "Initializing model data."
      ]
     },
     "metadata": {},
     "output_type": "display_data"
    },
    {
     "data": {
      "text/html": [
       "<pre>Initializing distances.</pre>"
      ],
      "text/plain": [
       "Initializing distances."
      ]
     },
     "metadata": {},
     "output_type": "display_data"
    },
    {
     "data": {
      "text/html": [
       "<pre>Done.</pre>"
      ],
      "text/plain": [
       "Done."
      ]
     },
     "metadata": {},
     "output_type": "display_data"
    },
    {
     "data": {
      "text/html": [
       "<pre>Starting brute force nearest neighbors model training.</pre>"
      ],
      "text/plain": [
       "Starting brute force nearest neighbors model training."
      ]
     },
     "metadata": {},
     "output_type": "display_data"
    },
    {
     "data": {
      "text/html": [
       "<pre>Validating distance components.</pre>"
      ],
      "text/plain": [
       "Validating distance components."
      ]
     },
     "metadata": {},
     "output_type": "display_data"
    },
    {
     "data": {
      "text/html": [
       "<pre>Initializing model data.</pre>"
      ],
      "text/plain": [
       "Initializing model data."
      ]
     },
     "metadata": {},
     "output_type": "display_data"
    },
    {
     "data": {
      "text/html": [
       "<pre>Initializing distances.</pre>"
      ],
      "text/plain": [
       "Initializing distances."
      ]
     },
     "metadata": {},
     "output_type": "display_data"
    },
    {
     "data": {
      "text/html": [
       "<pre>Done.</pre>"
      ],
      "text/plain": [
       "Done."
      ]
     },
     "metadata": {},
     "output_type": "display_data"
    }
   ],
   "source": [
    "cat_model = tc.nearest_neighbors.create(cats_only, features=['deep_features'], label='id')\n",
    "dog_model = tc.nearest_neighbors.create(dogs_only, features=['deep_features'], label='id')\n",
    "automobile_model = tc.nearest_neighbors.create(automobiles_only, features=['deep_features'], label='id')\n",
    "birds_model = tc.nearest_neighbors.create(birds_only, features=['deep_features'], label='id')"
   ]
  },
  {
   "cell_type": "code",
   "execution_count": 53,
   "id": "c6bec93a",
   "metadata": {},
   "outputs": [
    {
     "data": {
      "text/html": [
       "<pre>Starting pairwise querying.</pre>"
      ],
      "text/plain": [
       "Starting pairwise querying."
      ]
     },
     "metadata": {},
     "output_type": "display_data"
    },
    {
     "data": {
      "text/html": [
       "<pre>+--------------+---------+-------------+--------------+</pre>"
      ],
      "text/plain": [
       "+--------------+---------+-------------+--------------+"
      ]
     },
     "metadata": {},
     "output_type": "display_data"
    },
    {
     "data": {
      "text/html": [
       "<pre>| Query points | # Pairs | % Complete. | Elapsed Time |</pre>"
      ],
      "text/plain": [
       "| Query points | # Pairs | % Complete. | Elapsed Time |"
      ]
     },
     "metadata": {},
     "output_type": "display_data"
    },
    {
     "data": {
      "text/html": [
       "<pre>+--------------+---------+-------------+--------------+</pre>"
      ],
      "text/plain": [
       "+--------------+---------+-------------+--------------+"
      ]
     },
     "metadata": {},
     "output_type": "display_data"
    },
    {
     "data": {
      "text/html": [
       "<pre>| 0            | 1       | 0.196464    | 7.094ms      |</pre>"
      ],
      "text/plain": [
       "| 0            | 1       | 0.196464    | 7.094ms      |"
      ]
     },
     "metadata": {},
     "output_type": "display_data"
    },
    {
     "data": {
      "text/html": [
       "<pre>| Done         |         | 100         | 35.724ms     |</pre>"
      ],
      "text/plain": [
       "| Done         |         | 100         | 35.724ms     |"
      ]
     },
     "metadata": {},
     "output_type": "display_data"
    },
    {
     "data": {
      "text/html": [
       "<pre>+--------------+---------+-------------+--------------+</pre>"
      ],
      "text/plain": [
       "+--------------+---------+-------------+--------------+"
      ]
     },
     "metadata": {},
     "output_type": "display_data"
    }
   ],
   "source": [
    "cat_query = cat_model.query(image_test[0:1])"
   ]
  },
  {
   "cell_type": "code",
   "execution_count": 54,
   "id": "6ae1db88",
   "metadata": {},
   "outputs": [
    {
     "data": {
      "text/html": [
       "<pre>Starting pairwise querying.</pre>"
      ],
      "text/plain": [
       "Starting pairwise querying."
      ]
     },
     "metadata": {},
     "output_type": "display_data"
    },
    {
     "data": {
      "text/html": [
       "<pre>+--------------+---------+-------------+--------------+</pre>"
      ],
      "text/plain": [
       "+--------------+---------+-------------+--------------+"
      ]
     },
     "metadata": {},
     "output_type": "display_data"
    },
    {
     "data": {
      "text/html": [
       "<pre>| Query points | # Pairs | % Complete. | Elapsed Time |</pre>"
      ],
      "text/plain": [
       "| Query points | # Pairs | % Complete. | Elapsed Time |"
      ]
     },
     "metadata": {},
     "output_type": "display_data"
    },
    {
     "data": {
      "text/html": [
       "<pre>+--------------+---------+-------------+--------------+</pre>"
      ],
      "text/plain": [
       "+--------------+---------+-------------+--------------+"
      ]
     },
     "metadata": {},
     "output_type": "display_data"
    },
    {
     "data": {
      "text/html": [
       "<pre>| 0            | 1       | 0.196464    | 7.638ms      |</pre>"
      ],
      "text/plain": [
       "| 0            | 1       | 0.196464    | 7.638ms      |"
      ]
     },
     "metadata": {},
     "output_type": "display_data"
    },
    {
     "data": {
      "text/html": [
       "<pre>| Done         |         | 100         | 35ms         |</pre>"
      ],
      "text/plain": [
       "| Done         |         | 100         | 35ms         |"
      ]
     },
     "metadata": {},
     "output_type": "display_data"
    },
    {
     "data": {
      "text/html": [
       "<pre>+--------------+---------+-------------+--------------+</pre>"
      ],
      "text/plain": [
       "+--------------+---------+-------------+--------------+"
      ]
     },
     "metadata": {},
     "output_type": "display_data"
    }
   ],
   "source": [
    "dog_query = dog_model.query(image_test[0:1])"
   ]
  },
  {
   "cell_type": "code",
   "execution_count": 55,
   "id": "79a7218e",
   "metadata": {},
   "outputs": [
    {
     "data": {
      "text/html": [
       "<div style=\"max-height:1000px;max-width:1500px;overflow:auto;\"><table frame=\"box\" rules=\"cols\">\n",
       "    <tr>\n",
       "        <th style=\"padding-left: 1em; padding-right: 1em; text-align: center\">query_label</th>\n",
       "        <th style=\"padding-left: 1em; padding-right: 1em; text-align: center\">reference_label</th>\n",
       "        <th style=\"padding-left: 1em; padding-right: 1em; text-align: center\">distance</th>\n",
       "        <th style=\"padding-left: 1em; padding-right: 1em; text-align: center\">rank</th>\n",
       "    </tr>\n",
       "    <tr>\n",
       "        <td style=\"padding-left: 1em; padding-right: 1em; text-align: center; vertical-align: top\">0</td>\n",
       "        <td style=\"padding-left: 1em; padding-right: 1em; text-align: center; vertical-align: top\">16289</td>\n",
       "        <td style=\"padding-left: 1em; padding-right: 1em; text-align: center; vertical-align: top\">34.62371920804245</td>\n",
       "        <td style=\"padding-left: 1em; padding-right: 1em; text-align: center; vertical-align: top\">1</td>\n",
       "    </tr>\n",
       "    <tr>\n",
       "        <td style=\"padding-left: 1em; padding-right: 1em; text-align: center; vertical-align: top\">0</td>\n",
       "        <td style=\"padding-left: 1em; padding-right: 1em; text-align: center; vertical-align: top\">45646</td>\n",
       "        <td style=\"padding-left: 1em; padding-right: 1em; text-align: center; vertical-align: top\">36.00687992842462</td>\n",
       "        <td style=\"padding-left: 1em; padding-right: 1em; text-align: center; vertical-align: top\">2</td>\n",
       "    </tr>\n",
       "    <tr>\n",
       "        <td style=\"padding-left: 1em; padding-right: 1em; text-align: center; vertical-align: top\">0</td>\n",
       "        <td style=\"padding-left: 1em; padding-right: 1em; text-align: center; vertical-align: top\">32139</td>\n",
       "        <td style=\"padding-left: 1em; padding-right: 1em; text-align: center; vertical-align: top\">36.52008134363789</td>\n",
       "        <td style=\"padding-left: 1em; padding-right: 1em; text-align: center; vertical-align: top\">3</td>\n",
       "    </tr>\n",
       "    <tr>\n",
       "        <td style=\"padding-left: 1em; padding-right: 1em; text-align: center; vertical-align: top\">0</td>\n",
       "        <td style=\"padding-left: 1em; padding-right: 1em; text-align: center; vertical-align: top\">25713</td>\n",
       "        <td style=\"padding-left: 1em; padding-right: 1em; text-align: center; vertical-align: top\">36.754850252057054</td>\n",
       "        <td style=\"padding-left: 1em; padding-right: 1em; text-align: center; vertical-align: top\">4</td>\n",
       "    </tr>\n",
       "    <tr>\n",
       "        <td style=\"padding-left: 1em; padding-right: 1em; text-align: center; vertical-align: top\">0</td>\n",
       "        <td style=\"padding-left: 1em; padding-right: 1em; text-align: center; vertical-align: top\">331</td>\n",
       "        <td style=\"padding-left: 1em; padding-right: 1em; text-align: center; vertical-align: top\">36.87312281675268</td>\n",
       "        <td style=\"padding-left: 1em; padding-right: 1em; text-align: center; vertical-align: top\">5</td>\n",
       "    </tr>\n",
       "</table>\n",
       "[5 rows x 4 columns]<br/>\n",
       "</div>"
      ],
      "text/plain": [
       "Columns:\n",
       "\tquery_label\tint\n",
       "\treference_label\tint\n",
       "\tdistance\tfloat\n",
       "\trank\tint\n",
       "\n",
       "Rows: 5\n",
       "\n",
       "Data:\n",
       "+-------------+-----------------+--------------------+------+\n",
       "| query_label | reference_label |      distance      | rank |\n",
       "+-------------+-----------------+--------------------+------+\n",
       "|      0      |      16289      | 34.62371920804245  |  1   |\n",
       "|      0      |      45646      | 36.00687992842462  |  2   |\n",
       "|      0      |      32139      | 36.52008134363789  |  3   |\n",
       "|      0      |      25713      | 36.754850252057054 |  4   |\n",
       "|      0      |       331       | 36.87312281675268  |  5   |\n",
       "+-------------+-----------------+--------------------+------+\n",
       "[5 rows x 4 columns]"
      ]
     },
     "execution_count": 55,
     "metadata": {},
     "output_type": "execute_result"
    }
   ],
   "source": [
    "cat_query "
   ]
  },
  {
   "cell_type": "code",
   "execution_count": 56,
   "id": "00c9b78e",
   "metadata": {},
   "outputs": [
    {
     "data": {
      "text/plain": [
       "36.15573070978294"
      ]
     },
     "execution_count": 56,
     "metadata": {},
     "output_type": "execute_result"
    }
   ],
   "source": [
    "cat_query['distance'].mean()"
   ]
  },
  {
   "cell_type": "code",
   "execution_count": 57,
   "id": "51355331",
   "metadata": {},
   "outputs": [
    {
     "data": {
      "text/plain": [
       "37.77071136184157"
      ]
     },
     "execution_count": 57,
     "metadata": {},
     "output_type": "execute_result"
    }
   ],
   "source": [
    "dog_query['distance'].mean()"
   ]
  },
  {
   "cell_type": "code",
   "execution_count": 58,
   "id": "17de618c",
   "metadata": {},
   "outputs": [
    {
     "data": {
      "text/html": [
       "<div style=\"max-height:1000px;max-width:1500px;overflow:auto;\"><table frame=\"box\" rules=\"cols\">\n",
       "    <tr>\n",
       "        <th style=\"padding-left: 1em; padding-right: 1em; text-align: center\">query_label</th>\n",
       "        <th style=\"padding-left: 1em; padding-right: 1em; text-align: center\">reference_label</th>\n",
       "        <th style=\"padding-left: 1em; padding-right: 1em; text-align: center\">distance</th>\n",
       "        <th style=\"padding-left: 1em; padding-right: 1em; text-align: center\">rank</th>\n",
       "    </tr>\n",
       "    <tr>\n",
       "        <td style=\"padding-left: 1em; padding-right: 1em; text-align: center; vertical-align: top\">0</td>\n",
       "        <td style=\"padding-left: 1em; padding-right: 1em; text-align: center; vertical-align: top\">16976</td>\n",
       "        <td style=\"padding-left: 1em; padding-right: 1em; text-align: center; vertical-align: top\">37.464262878423774</td>\n",
       "        <td style=\"padding-left: 1em; padding-right: 1em; text-align: center; vertical-align: top\">1</td>\n",
       "    </tr>\n",
       "    <tr>\n",
       "        <td style=\"padding-left: 1em; padding-right: 1em; text-align: center; vertical-align: top\">0</td>\n",
       "        <td style=\"padding-left: 1em; padding-right: 1em; text-align: center; vertical-align: top\">13387</td>\n",
       "        <td style=\"padding-left: 1em; padding-right: 1em; text-align: center; vertical-align: top\">37.56668321685285</td>\n",
       "        <td style=\"padding-left: 1em; padding-right: 1em; text-align: center; vertical-align: top\">2</td>\n",
       "    </tr>\n",
       "    <tr>\n",
       "        <td style=\"padding-left: 1em; padding-right: 1em; text-align: center; vertical-align: top\">0</td>\n",
       "        <td style=\"padding-left: 1em; padding-right: 1em; text-align: center; vertical-align: top\">35867</td>\n",
       "        <td style=\"padding-left: 1em; padding-right: 1em; text-align: center; vertical-align: top\">37.60472670789396</td>\n",
       "        <td style=\"padding-left: 1em; padding-right: 1em; text-align: center; vertical-align: top\">3</td>\n",
       "    </tr>\n",
       "    <tr>\n",
       "        <td style=\"padding-left: 1em; padding-right: 1em; text-align: center; vertical-align: top\">0</td>\n",
       "        <td style=\"padding-left: 1em; padding-right: 1em; text-align: center; vertical-align: top\">44603</td>\n",
       "        <td style=\"padding-left: 1em; padding-right: 1em; text-align: center; vertical-align: top\">37.70655851529755</td>\n",
       "        <td style=\"padding-left: 1em; padding-right: 1em; text-align: center; vertical-align: top\">4</td>\n",
       "    </tr>\n",
       "    <tr>\n",
       "        <td style=\"padding-left: 1em; padding-right: 1em; text-align: center; vertical-align: top\">0</td>\n",
       "        <td style=\"padding-left: 1em; padding-right: 1em; text-align: center; vertical-align: top\">6094</td>\n",
       "        <td style=\"padding-left: 1em; padding-right: 1em; text-align: center; vertical-align: top\">38.511325490739715</td>\n",
       "        <td style=\"padding-left: 1em; padding-right: 1em; text-align: center; vertical-align: top\">5</td>\n",
       "    </tr>\n",
       "</table>\n",
       "[5 rows x 4 columns]<br/>\n",
       "</div>"
      ],
      "text/plain": [
       "Columns:\n",
       "\tquery_label\tint\n",
       "\treference_label\tint\n",
       "\tdistance\tfloat\n",
       "\trank\tint\n",
       "\n",
       "Rows: 5\n",
       "\n",
       "Data:\n",
       "+-------------+-----------------+--------------------+------+\n",
       "| query_label | reference_label |      distance      | rank |\n",
       "+-------------+-----------------+--------------------+------+\n",
       "|      0      |      16976      | 37.464262878423774 |  1   |\n",
       "|      0      |      13387      | 37.56668321685285  |  2   |\n",
       "|      0      |      35867      | 37.60472670789396  |  3   |\n",
       "|      0      |      44603      | 37.70655851529755  |  4   |\n",
       "|      0      |       6094      | 38.511325490739715 |  5   |\n",
       "+-------------+-----------------+--------------------+------+\n",
       "[5 rows x 4 columns]"
      ]
     },
     "execution_count": 58,
     "metadata": {},
     "output_type": "execute_result"
    }
   ],
   "source": [
    "dog_query"
   ]
  },
  {
   "cell_type": "markdown",
   "id": "b284299d",
   "metadata": {},
   "source": [
    "# Split test data"
   ]
  },
  {
   "cell_type": "code",
   "execution_count": 59,
   "id": "0ea6c8f3",
   "metadata": {},
   "outputs": [],
   "source": [
    "image_test_cat = image_test.filter_by('cat', 'label', exclude=False)\n",
    "image_test_dog = image_test.filter_by('dog', 'label', exclude=False)\n",
    "image_test_automobile = image_test.filter_by('automobile', 'label', exclude=False)\n",
    "image_test_bird = image_train.filter_by('bird', 'label', exclude=False)"
   ]
  },
  {
   "cell_type": "markdown",
   "id": "5b5105d5",
   "metadata": {},
   "source": [
    "### Find closest neighbor for dog data"
   ]
  },
  {
   "cell_type": "code",
   "execution_count": 62,
   "id": "f461b832",
   "metadata": {},
   "outputs": [
    {
     "data": {
      "text/html": [
       "<pre>Starting blockwise querying.</pre>"
      ],
      "text/plain": [
       "Starting blockwise querying."
      ]
     },
     "metadata": {},
     "output_type": "display_data"
    },
    {
     "data": {
      "text/html": [
       "<pre>max rows per data block: 4348</pre>"
      ],
      "text/plain": [
       "max rows per data block: 4348"
      ]
     },
     "metadata": {},
     "output_type": "display_data"
    },
    {
     "data": {
      "text/html": [
       "<pre>number of reference data blocks: 8</pre>"
      ],
      "text/plain": [
       "number of reference data blocks: 8"
      ]
     },
     "metadata": {},
     "output_type": "display_data"
    },
    {
     "data": {
      "text/html": [
       "<pre>number of query data blocks: 1</pre>"
      ],
      "text/plain": [
       "number of query data blocks: 1"
      ]
     },
     "metadata": {},
     "output_type": "display_data"
    },
    {
     "data": {
      "text/html": [
       "<pre>+--------------+---------+-------------+--------------+</pre>"
      ],
      "text/plain": [
       "+--------------+---------+-------------+--------------+"
      ]
     },
     "metadata": {},
     "output_type": "display_data"
    },
    {
     "data": {
      "text/html": [
       "<pre>| Query points | # Pairs | % Complete. | Elapsed Time |</pre>"
      ],
      "text/plain": [
       "| Query points | # Pairs | % Complete. | Elapsed Time |"
      ]
     },
     "metadata": {},
     "output_type": "display_data"
    },
    {
     "data": {
      "text/html": [
       "<pre>+--------------+---------+-------------+--------------+</pre>"
      ],
      "text/plain": [
       "+--------------+---------+-------------+--------------+"
      ]
     },
     "metadata": {},
     "output_type": "display_data"
    },
    {
     "data": {
      "text/html": [
       "<pre>| 1000         | 63000   | 12.3772     | 380.061ms    |</pre>"
      ],
      "text/plain": [
       "| 1000         | 63000   | 12.3772     | 380.061ms    |"
      ]
     },
     "metadata": {},
     "output_type": "display_data"
    },
    {
     "data": {
      "text/html": [
       "<pre>| Done         | 509000  | 100         | 414.943ms    |</pre>"
      ],
      "text/plain": [
       "| Done         | 509000  | 100         | 414.943ms    |"
      ]
     },
     "metadata": {},
     "output_type": "display_data"
    },
    {
     "data": {
      "text/html": [
       "<pre>+--------------+---------+-------------+--------------+</pre>"
      ],
      "text/plain": [
       "+--------------+---------+-------------+--------------+"
      ]
     },
     "metadata": {},
     "output_type": "display_data"
    },
    {
     "data": {
      "text/html": [
       "<pre>Starting blockwise querying.</pre>"
      ],
      "text/plain": [
       "Starting blockwise querying."
      ]
     },
     "metadata": {},
     "output_type": "display_data"
    },
    {
     "data": {
      "text/html": [
       "<pre>max rows per data block: 4348</pre>"
      ],
      "text/plain": [
       "max rows per data block: 4348"
      ]
     },
     "metadata": {},
     "output_type": "display_data"
    },
    {
     "data": {
      "text/html": [
       "<pre>number of reference data blocks: 8</pre>"
      ],
      "text/plain": [
       "number of reference data blocks: 8"
      ]
     },
     "metadata": {},
     "output_type": "display_data"
    },
    {
     "data": {
      "text/html": [
       "<pre>number of query data blocks: 1</pre>"
      ],
      "text/plain": [
       "number of query data blocks: 1"
      ]
     },
     "metadata": {},
     "output_type": "display_data"
    },
    {
     "data": {
      "text/html": [
       "<pre>+--------------+---------+-------------+--------------+</pre>"
      ],
      "text/plain": [
       "+--------------+---------+-------------+--------------+"
      ]
     },
     "metadata": {},
     "output_type": "display_data"
    },
    {
     "data": {
      "text/html": [
       "<pre>| Query points | # Pairs | % Complete. | Elapsed Time |</pre>"
      ],
      "text/plain": [
       "| Query points | # Pairs | % Complete. | Elapsed Time |"
      ]
     },
     "metadata": {},
     "output_type": "display_data"
    },
    {
     "data": {
      "text/html": [
       "<pre>+--------------+---------+-------------+--------------+</pre>"
      ],
      "text/plain": [
       "+--------------+---------+-------------+--------------+"
      ]
     },
     "metadata": {},
     "output_type": "display_data"
    },
    {
     "data": {
      "text/html": [
       "<pre>| 1000         | 64000   | 12.5737     | 398.865ms    |</pre>"
      ],
      "text/plain": [
       "| 1000         | 64000   | 12.5737     | 398.865ms    |"
      ]
     },
     "metadata": {},
     "output_type": "display_data"
    },
    {
     "data": {
      "text/html": [
       "<pre>| Done         | 509000  | 100         | 503.602ms    |</pre>"
      ],
      "text/plain": [
       "| Done         | 509000  | 100         | 503.602ms    |"
      ]
     },
     "metadata": {},
     "output_type": "display_data"
    },
    {
     "data": {
      "text/html": [
       "<pre>+--------------+---------+-------------+--------------+</pre>"
      ],
      "text/plain": [
       "+--------------+---------+-------------+--------------+"
      ]
     },
     "metadata": {},
     "output_type": "display_data"
    },
    {
     "data": {
      "text/html": [
       "<pre>Starting blockwise querying.</pre>"
      ],
      "text/plain": [
       "Starting blockwise querying."
      ]
     },
     "metadata": {},
     "output_type": "display_data"
    },
    {
     "data": {
      "text/html": [
       "<pre>max rows per data block: 4348</pre>"
      ],
      "text/plain": [
       "max rows per data block: 4348"
      ]
     },
     "metadata": {},
     "output_type": "display_data"
    },
    {
     "data": {
      "text/html": [
       "<pre>number of reference data blocks: 8</pre>"
      ],
      "text/plain": [
       "number of reference data blocks: 8"
      ]
     },
     "metadata": {},
     "output_type": "display_data"
    },
    {
     "data": {
      "text/html": [
       "<pre>number of query data blocks: 1</pre>"
      ],
      "text/plain": [
       "number of query data blocks: 1"
      ]
     },
     "metadata": {},
     "output_type": "display_data"
    },
    {
     "data": {
      "text/html": [
       "<pre>+--------------+---------+-------------+--------------+</pre>"
      ],
      "text/plain": [
       "+--------------+---------+-------------+--------------+"
      ]
     },
     "metadata": {},
     "output_type": "display_data"
    },
    {
     "data": {
      "text/html": [
       "<pre>| Query points | # Pairs | % Complete. | Elapsed Time |</pre>"
      ],
      "text/plain": [
       "| Query points | # Pairs | % Complete. | Elapsed Time |"
      ]
     },
     "metadata": {},
     "output_type": "display_data"
    },
    {
     "data": {
      "text/html": [
       "<pre>+--------------+---------+-------------+--------------+</pre>"
      ],
      "text/plain": [
       "+--------------+---------+-------------+--------------+"
      ]
     },
     "metadata": {},
     "output_type": "display_data"
    },
    {
     "data": {
      "text/html": [
       "<pre>| 1000         | 64000   | 12.5737     | 383.764ms    |</pre>"
      ],
      "text/plain": [
       "| 1000         | 64000   | 12.5737     | 383.764ms    |"
      ]
     },
     "metadata": {},
     "output_type": "display_data"
    },
    {
     "data": {
      "text/html": [
       "<pre>| Done         | 509000  | 100         | 408.11ms     |</pre>"
      ],
      "text/plain": [
       "| Done         | 509000  | 100         | 408.11ms     |"
      ]
     },
     "metadata": {},
     "output_type": "display_data"
    },
    {
     "data": {
      "text/html": [
       "<pre>+--------------+---------+-------------+--------------+</pre>"
      ],
      "text/plain": [
       "+--------------+---------+-------------+--------------+"
      ]
     },
     "metadata": {},
     "output_type": "display_data"
    },
    {
     "data": {
      "text/html": [
       "<pre>Starting blockwise querying.</pre>"
      ],
      "text/plain": [
       "Starting blockwise querying."
      ]
     },
     "metadata": {},
     "output_type": "display_data"
    },
    {
     "data": {
      "text/html": [
       "<pre>max rows per data block: 4348</pre>"
      ],
      "text/plain": [
       "max rows per data block: 4348"
      ]
     },
     "metadata": {},
     "output_type": "display_data"
    },
    {
     "data": {
      "text/html": [
       "<pre>number of reference data blocks: 8</pre>"
      ],
      "text/plain": [
       "number of reference data blocks: 8"
      ]
     },
     "metadata": {},
     "output_type": "display_data"
    },
    {
     "data": {
      "text/html": [
       "<pre>number of query data blocks: 1</pre>"
      ],
      "text/plain": [
       "number of query data blocks: 1"
      ]
     },
     "metadata": {},
     "output_type": "display_data"
    },
    {
     "data": {
      "text/html": [
       "<pre>+--------------+---------+-------------+--------------+</pre>"
      ],
      "text/plain": [
       "+--------------+---------+-------------+--------------+"
      ]
     },
     "metadata": {},
     "output_type": "display_data"
    },
    {
     "data": {
      "text/html": [
       "<pre>| Query points | # Pairs | % Complete. | Elapsed Time |</pre>"
      ],
      "text/plain": [
       "| Query points | # Pairs | % Complete. | Elapsed Time |"
      ]
     },
     "metadata": {},
     "output_type": "display_data"
    },
    {
     "data": {
      "text/html": [
       "<pre>+--------------+---------+-------------+--------------+</pre>"
      ],
      "text/plain": [
       "+--------------+---------+-------------+--------------+"
      ]
     },
     "metadata": {},
     "output_type": "display_data"
    },
    {
     "data": {
      "text/html": [
       "<pre>| 1000         | 59000   | 12.3431     | 408.496ms    |</pre>"
      ],
      "text/plain": [
       "| 1000         | 59000   | 12.3431     | 408.496ms    |"
      ]
     },
     "metadata": {},
     "output_type": "display_data"
    },
    {
     "data": {
      "text/html": [
       "<pre>| Done         | 478000  | 100         | 438.689ms    |</pre>"
      ],
      "text/plain": [
       "| Done         | 478000  | 100         | 438.689ms    |"
      ]
     },
     "metadata": {},
     "output_type": "display_data"
    },
    {
     "data": {
      "text/html": [
       "<pre>+--------------+---------+-------------+--------------+</pre>"
      ],
      "text/plain": [
       "+--------------+---------+-------------+--------------+"
      ]
     },
     "metadata": {},
     "output_type": "display_data"
    }
   ],
   "source": [
    "dog_cat_neighbors = cat_model.query(image_test_dog, k=1)\n",
    "dog_dog_neighbors = dog_model.query(image_test_dog, k=1)\n",
    "dog_automobile_neighbors = automobile_model.query(image_test_dog, k=1)\n",
    "dog_bird_neighbors = birds_model.query(image_test_dog, k=1)"
   ]
  },
  {
   "cell_type": "code",
   "execution_count": 63,
   "id": "d1c70638",
   "metadata": {},
   "outputs": [
    {
     "data": {
      "text/html": [
       "<div style=\"max-height:1000px;max-width:1500px;overflow:auto;\"><table frame=\"box\" rules=\"cols\">\n",
       "    <tr>\n",
       "        <th style=\"padding-left: 1em; padding-right: 1em; text-align: center\">query_label</th>\n",
       "        <th style=\"padding-left: 1em; padding-right: 1em; text-align: center\">reference_label</th>\n",
       "        <th style=\"padding-left: 1em; padding-right: 1em; text-align: center\">distance</th>\n",
       "        <th style=\"padding-left: 1em; padding-right: 1em; text-align: center\">rank</th>\n",
       "    </tr>\n",
       "    <tr>\n",
       "        <td style=\"padding-left: 1em; padding-right: 1em; text-align: center; vertical-align: top\">0</td>\n",
       "        <td style=\"padding-left: 1em; padding-right: 1em; text-align: center; vertical-align: top\">33</td>\n",
       "        <td style=\"padding-left: 1em; padding-right: 1em; text-align: center; vertical-align: top\">36.419607706754384</td>\n",
       "        <td style=\"padding-left: 1em; padding-right: 1em; text-align: center; vertical-align: top\">1</td>\n",
       "    </tr>\n",
       "    <tr>\n",
       "        <td style=\"padding-left: 1em; padding-right: 1em; text-align: center; vertical-align: top\">1</td>\n",
       "        <td style=\"padding-left: 1em; padding-right: 1em; text-align: center; vertical-align: top\">30606</td>\n",
       "        <td style=\"padding-left: 1em; padding-right: 1em; text-align: center; vertical-align: top\">38.83532688735542</td>\n",
       "        <td style=\"padding-left: 1em; padding-right: 1em; text-align: center; vertical-align: top\">1</td>\n",
       "    </tr>\n",
       "    <tr>\n",
       "        <td style=\"padding-left: 1em; padding-right: 1em; text-align: center; vertical-align: top\">2</td>\n",
       "        <td style=\"padding-left: 1em; padding-right: 1em; text-align: center; vertical-align: top\">5545</td>\n",
       "        <td style=\"padding-left: 1em; padding-right: 1em; text-align: center; vertical-align: top\">36.97634108541546</td>\n",
       "        <td style=\"padding-left: 1em; padding-right: 1em; text-align: center; vertical-align: top\">1</td>\n",
       "    </tr>\n",
       "    <tr>\n",
       "        <td style=\"padding-left: 1em; padding-right: 1em; text-align: center; vertical-align: top\">3</td>\n",
       "        <td style=\"padding-left: 1em; padding-right: 1em; text-align: center; vertical-align: top\">19631</td>\n",
       "        <td style=\"padding-left: 1em; padding-right: 1em; text-align: center; vertical-align: top\">34.575007291446106</td>\n",
       "        <td style=\"padding-left: 1em; padding-right: 1em; text-align: center; vertical-align: top\">1</td>\n",
       "    </tr>\n",
       "    <tr>\n",
       "        <td style=\"padding-left: 1em; padding-right: 1em; text-align: center; vertical-align: top\">4</td>\n",
       "        <td style=\"padding-left: 1em; padding-right: 1em; text-align: center; vertical-align: top\">7493</td>\n",
       "        <td style=\"padding-left: 1em; padding-right: 1em; text-align: center; vertical-align: top\">34.77882479101661</td>\n",
       "        <td style=\"padding-left: 1em; padding-right: 1em; text-align: center; vertical-align: top\">1</td>\n",
       "    </tr>\n",
       "    <tr>\n",
       "        <td style=\"padding-left: 1em; padding-right: 1em; text-align: center; vertical-align: top\">5</td>\n",
       "        <td style=\"padding-left: 1em; padding-right: 1em; text-align: center; vertical-align: top\">47044</td>\n",
       "        <td style=\"padding-left: 1em; padding-right: 1em; text-align: center; vertical-align: top\">35.11715782924591</td>\n",
       "        <td style=\"padding-left: 1em; padding-right: 1em; text-align: center; vertical-align: top\">1</td>\n",
       "    </tr>\n",
       "    <tr>\n",
       "        <td style=\"padding-left: 1em; padding-right: 1em; text-align: center; vertical-align: top\">6</td>\n",
       "        <td style=\"padding-left: 1em; padding-right: 1em; text-align: center; vertical-align: top\">13918</td>\n",
       "        <td style=\"padding-left: 1em; padding-right: 1em; text-align: center; vertical-align: top\">40.60958309132649</td>\n",
       "        <td style=\"padding-left: 1em; padding-right: 1em; text-align: center; vertical-align: top\">1</td>\n",
       "    </tr>\n",
       "    <tr>\n",
       "        <td style=\"padding-left: 1em; padding-right: 1em; text-align: center; vertical-align: top\">7</td>\n",
       "        <td style=\"padding-left: 1em; padding-right: 1em; text-align: center; vertical-align: top\">10981</td>\n",
       "        <td style=\"padding-left: 1em; padding-right: 1em; text-align: center; vertical-align: top\">39.90368673062214</td>\n",
       "        <td style=\"padding-left: 1em; padding-right: 1em; text-align: center; vertical-align: top\">1</td>\n",
       "    </tr>\n",
       "    <tr>\n",
       "        <td style=\"padding-left: 1em; padding-right: 1em; text-align: center; vertical-align: top\">8</td>\n",
       "        <td style=\"padding-left: 1em; padding-right: 1em; text-align: center; vertical-align: top\">45456</td>\n",
       "        <td style=\"padding-left: 1em; padding-right: 1em; text-align: center; vertical-align: top\">38.067470016821176</td>\n",
       "        <td style=\"padding-left: 1em; padding-right: 1em; text-align: center; vertical-align: top\">1</td>\n",
       "    </tr>\n",
       "    <tr>\n",
       "        <td style=\"padding-left: 1em; padding-right: 1em; text-align: center; vertical-align: top\">9</td>\n",
       "        <td style=\"padding-left: 1em; padding-right: 1em; text-align: center; vertical-align: top\">44673</td>\n",
       "        <td style=\"padding-left: 1em; padding-right: 1em; text-align: center; vertical-align: top\">42.72587329506032</td>\n",
       "        <td style=\"padding-left: 1em; padding-right: 1em; text-align: center; vertical-align: top\">1</td>\n",
       "    </tr>\n",
       "</table>\n",
       "[10 rows x 4 columns]<br/>\n",
       "</div>"
      ],
      "text/plain": [
       "Columns:\n",
       "\tquery_label\tint\n",
       "\treference_label\tint\n",
       "\tdistance\tfloat\n",
       "\trank\tint\n",
       "\n",
       "Rows: 10\n",
       "\n",
       "Data:\n",
       "+-------------+-----------------+--------------------+------+\n",
       "| query_label | reference_label |      distance      | rank |\n",
       "+-------------+-----------------+--------------------+------+\n",
       "|      0      |        33       | 36.419607706754384 |  1   |\n",
       "|      1      |      30606      | 38.83532688735542  |  1   |\n",
       "|      2      |       5545      | 36.97634108541546  |  1   |\n",
       "|      3      |      19631      | 34.575007291446106 |  1   |\n",
       "|      4      |       7493      | 34.77882479101661  |  1   |\n",
       "|      5      |      47044      | 35.11715782924591  |  1   |\n",
       "|      6      |      13918      | 40.60958309132649  |  1   |\n",
       "|      7      |      10981      | 39.90368673062214  |  1   |\n",
       "|      8      |      45456      | 38.067470016821176 |  1   |\n",
       "|      9      |      44673      | 42.72587329506032  |  1   |\n",
       "+-------------+-----------------+--------------------+------+\n",
       "[10 rows x 4 columns]"
      ]
     },
     "execution_count": 63,
     "metadata": {},
     "output_type": "execute_result"
    }
   ],
   "source": [
    "dog_cat_neighbors.head()"
   ]
  },
  {
   "cell_type": "code",
   "execution_count": 73,
   "id": "d2a14a81",
   "metadata": {},
   "outputs": [],
   "source": [
    "dog_distances = tc.SFrame({\n",
    "    'dog-cat': dog_cat_neighbors['distance'],\n",
    "    'dog-dog': dog_dog_neighbors['distance'],\n",
    "    'dog-automobile': dog_automobile_neighbors['distance'],\n",
    "    'dog-bird': dog_bird_neighbors['distance']\n",
    "})"
   ]
  },
  {
   "cell_type": "code",
   "execution_count": 74,
   "id": "8677d3aa",
   "metadata": {},
   "outputs": [
    {
     "data": {
      "text/html": [
       "<div style=\"max-height:1000px;max-width:1500px;overflow:auto;\"><table frame=\"box\" rules=\"cols\">\n",
       "    <tr>\n",
       "        <th style=\"padding-left: 1em; padding-right: 1em; text-align: center\">dog-automobile</th>\n",
       "        <th style=\"padding-left: 1em; padding-right: 1em; text-align: center\">dog-bird</th>\n",
       "        <th style=\"padding-left: 1em; padding-right: 1em; text-align: center\">dog-cat</th>\n",
       "        <th style=\"padding-left: 1em; padding-right: 1em; text-align: center\">dog-dog</th>\n",
       "    </tr>\n",
       "    <tr>\n",
       "        <td style=\"padding-left: 1em; padding-right: 1em; text-align: center; vertical-align: top\">41.95797614571203</td>\n",
       "        <td style=\"padding-left: 1em; padding-right: 1em; text-align: center; vertical-align: top\">41.75386473035126</td>\n",
       "        <td style=\"padding-left: 1em; padding-right: 1em; text-align: center; vertical-align: top\">36.419607706754384</td>\n",
       "        <td style=\"padding-left: 1em; padding-right: 1em; text-align: center; vertical-align: top\">33.47735903726335</td>\n",
       "    </tr>\n",
       "    <tr>\n",
       "        <td style=\"padding-left: 1em; padding-right: 1em; text-align: center; vertical-align: top\">46.00213318067788</td>\n",
       "        <td style=\"padding-left: 1em; padding-right: 1em; text-align: center; vertical-align: top\">41.3382958924861</td>\n",
       "        <td style=\"padding-left: 1em; padding-right: 1em; text-align: center; vertical-align: top\">38.83532688735542</td>\n",
       "        <td style=\"padding-left: 1em; padding-right: 1em; text-align: center; vertical-align: top\">32.84584956840554</td>\n",
       "    </tr>\n",
       "    <tr>\n",
       "        <td style=\"padding-left: 1em; padding-right: 1em; text-align: center; vertical-align: top\">42.946229069238804</td>\n",
       "        <td style=\"padding-left: 1em; padding-right: 1em; text-align: center; vertical-align: top\">38.615759085289056</td>\n",
       "        <td style=\"padding-left: 1em; padding-right: 1em; text-align: center; vertical-align: top\">36.97634108541546</td>\n",
       "        <td style=\"padding-left: 1em; padding-right: 1em; text-align: center; vertical-align: top\">35.03970731890584</td>\n",
       "    </tr>\n",
       "    <tr>\n",
       "        <td style=\"padding-left: 1em; padding-right: 1em; text-align: center; vertical-align: top\">41.68660600484793</td>\n",
       "        <td style=\"padding-left: 1em; padding-right: 1em; text-align: center; vertical-align: top\">37.08922699538214</td>\n",
       "        <td style=\"padding-left: 1em; padding-right: 1em; text-align: center; vertical-align: top\">34.575007291446106</td>\n",
       "        <td style=\"padding-left: 1em; padding-right: 1em; text-align: center; vertical-align: top\">33.90103276968193</td>\n",
       "    </tr>\n",
       "    <tr>\n",
       "        <td style=\"padding-left: 1em; padding-right: 1em; text-align: center; vertical-align: top\">39.22696649347584</td>\n",
       "        <td style=\"padding-left: 1em; padding-right: 1em; text-align: center; vertical-align: top\">38.27228869398105</td>\n",
       "        <td style=\"padding-left: 1em; padding-right: 1em; text-align: center; vertical-align: top\">34.77882479101661</td>\n",
       "        <td style=\"padding-left: 1em; padding-right: 1em; text-align: center; vertical-align: top\">37.484925090925636</td>\n",
       "    </tr>\n",
       "    <tr>\n",
       "        <td style=\"padding-left: 1em; padding-right: 1em; text-align: center; vertical-align: top\">40.58451176980721</td>\n",
       "        <td style=\"padding-left: 1em; padding-right: 1em; text-align: center; vertical-align: top\">39.146208923590486</td>\n",
       "        <td style=\"padding-left: 1em; padding-right: 1em; text-align: center; vertical-align: top\">35.11715782924591</td>\n",
       "        <td style=\"padding-left: 1em; padding-right: 1em; text-align: center; vertical-align: top\">34.94516534398124</td>\n",
       "    </tr>\n",
       "    <tr>\n",
       "        <td style=\"padding-left: 1em; padding-right: 1em; text-align: center; vertical-align: top\">45.10673529610854</td>\n",
       "        <td style=\"padding-left: 1em; padding-right: 1em; text-align: center; vertical-align: top\">40.523040105962316</td>\n",
       "        <td style=\"padding-left: 1em; padding-right: 1em; text-align: center; vertical-align: top\">40.60958309132649</td>\n",
       "        <td style=\"padding-left: 1em; padding-right: 1em; text-align: center; vertical-align: top\">39.095727834463545</td>\n",
       "    </tr>\n",
       "    <tr>\n",
       "        <td style=\"padding-left: 1em; padding-right: 1em; text-align: center; vertical-align: top\">41.32211409739762</td>\n",
       "        <td style=\"padding-left: 1em; padding-right: 1em; text-align: center; vertical-align: top\">38.19479183926956</td>\n",
       "        <td style=\"padding-left: 1em; padding-right: 1em; text-align: center; vertical-align: top\">39.90368673062214</td>\n",
       "        <td style=\"padding-left: 1em; padding-right: 1em; text-align: center; vertical-align: top\">37.76961310322034</td>\n",
       "    </tr>\n",
       "    <tr>\n",
       "        <td style=\"padding-left: 1em; padding-right: 1em; text-align: center; vertical-align: top\">41.82446549950164</td>\n",
       "        <td style=\"padding-left: 1em; padding-right: 1em; text-align: center; vertical-align: top\">40.156713166131446</td>\n",
       "        <td style=\"padding-left: 1em; padding-right: 1em; text-align: center; vertical-align: top\">38.067470016821176</td>\n",
       "        <td style=\"padding-left: 1em; padding-right: 1em; text-align: center; vertical-align: top\">35.10891446032838</td>\n",
       "    </tr>\n",
       "    <tr>\n",
       "        <td style=\"padding-left: 1em; padding-right: 1em; text-align: center; vertical-align: top\">45.497692940110376</td>\n",
       "        <td style=\"padding-left: 1em; padding-right: 1em; text-align: center; vertical-align: top\">45.55979626027668</td>\n",
       "        <td style=\"padding-left: 1em; padding-right: 1em; text-align: center; vertical-align: top\">42.72587329506032</td>\n",
       "        <td style=\"padding-left: 1em; padding-right: 1em; text-align: center; vertical-align: top\">43.242283258453455</td>\n",
       "    </tr>\n",
       "</table>\n",
       "[10 rows x 4 columns]<br/>\n",
       "</div>"
      ],
      "text/plain": [
       "Columns:\n",
       "\tdog-automobile\tfloat\n",
       "\tdog-bird\tfloat\n",
       "\tdog-cat\tfloat\n",
       "\tdog-dog\tfloat\n",
       "\n",
       "Rows: 10\n",
       "\n",
       "Data:\n",
       "+--------------------+--------------------+--------------------+\n",
       "|   dog-automobile   |      dog-bird      |      dog-cat       |\n",
       "+--------------------+--------------------+--------------------+\n",
       "| 41.95797614571203  | 41.75386473035126  | 36.419607706754384 |\n",
       "| 46.00213318067788  |  41.3382958924861  | 38.83532688735542  |\n",
       "| 42.946229069238804 | 38.615759085289056 | 36.97634108541546  |\n",
       "| 41.68660600484793  | 37.08922699538214  | 34.575007291446106 |\n",
       "| 39.22696649347584  | 38.27228869398105  | 34.77882479101661  |\n",
       "| 40.58451176980721  | 39.146208923590486 | 35.11715782924591  |\n",
       "| 45.10673529610854  | 40.523040105962316 | 40.60958309132649  |\n",
       "| 41.32211409739762  | 38.19479183926956  | 39.90368673062214  |\n",
       "| 41.82446549950164  | 40.156713166131446 | 38.067470016821176 |\n",
       "| 45.497692940110376 | 45.55979626027668  | 42.72587329506032  |\n",
       "+--------------------+--------------------+--------------------+\n",
       "+--------------------+\n",
       "|      dog-dog       |\n",
       "+--------------------+\n",
       "| 33.47735903726335  |\n",
       "| 32.84584956840554  |\n",
       "| 35.03970731890584  |\n",
       "| 33.90103276968193  |\n",
       "| 37.484925090925636 |\n",
       "| 34.94516534398124  |\n",
       "| 39.095727834463545 |\n",
       "| 37.76961310322034  |\n",
       "| 35.10891446032838  |\n",
       "| 43.242283258453455 |\n",
       "+--------------------+\n",
       "[10 rows x 4 columns]"
      ]
     },
     "execution_count": 74,
     "metadata": {},
     "output_type": "execute_result"
    }
   ],
   "source": [
    "dog_distances.head()"
   ]
  },
  {
   "cell_type": "code",
   "execution_count": 77,
   "id": "ddc86e27",
   "metadata": {},
   "outputs": [],
   "source": [
    "def is_dog_correct(row):\n",
    "    return 1 if ((row['dog-dog'] < row['dog-cat']) & (row['dog-dog'] < row['dog-bird']) & (row['dog-dog'] < row['dog-automobile'])) else 0"
   ]
  },
  {
   "cell_type": "code",
   "execution_count": 79,
   "id": "aa1af295",
   "metadata": {},
   "outputs": [],
   "source": [
    "no_correct = dog_distances.apply(is_dog_correct)"
   ]
  },
  {
   "cell_type": "code",
   "execution_count": 80,
   "id": "7165339c",
   "metadata": {},
   "outputs": [
    {
     "data": {
      "text/plain": [
       "678"
      ]
     },
     "execution_count": 80,
     "metadata": {},
     "output_type": "execute_result"
    }
   ],
   "source": [
    "sum(no_correct)"
   ]
  },
  {
   "cell_type": "code",
   "execution_count": 98,
   "id": "bc7a7344",
   "metadata": {},
   "outputs": [],
   "source": [
    "def get_images_from_ids(query_result):\n",
    "    return image_train.filter_by(query_result['reference_label'], 'id')"
   ]
  },
  {
   "cell_type": "code",
   "execution_count": 104,
   "id": "2faf9b0f",
   "metadata": {},
   "outputs": [
    {
     "data": {
      "text/html": [
       "<html lang=\"en\">                                                     <head>                                                               <style>                                                              .sframe {                                                            font-size: 12px;                                                   font-family: HelveticaNeue;                                        border: 1px solid silver;                                        }                                                                  .sframe thead th {                                                   background: #F7F7F7;                                               font-family: HelveticaNeue-Medium;                                 font-size: 14px;                                                   line-height: 16.8px;                                               padding-top: 16px;                                                 padding-bottom: 16px;                                              padding-left: 10px;                                                padding-right: 38px;                                               border-top: 1px solid #E9E9E9;                                     border-bottom: 1px solid #E9E9E9;                                  white-space: nowrap;                                               overflow: hidden;                                                  text-overflow:ellipsis;                                            text-align:center;                                                 font-weight:normal;                                              }                                                                  .sframe tbody th {                                                   background: #FFFFFF;                                               text-align:left;                                                   font-weight:normal;                                                border-right: 1px solid #E9E9E9;                                 }                                                                  .sframe td {                                                         background: #FFFFFF;                                               padding-left: 10px;                                                padding-right: 38px;                                               padding-top: 14px;                                                 padding-bottom: 14px;                                              border-bottom: 1px solid #E9E9E9;                                  max-height: 0px;                                                   transition: max-height 5s ease-out;                                vertical-align: middle;                                            font-family: HelveticaNeue;                                        font-size: 12px;                                                   line-height: 16.8px;                                               background: #FFFFFF;                                             }                                                                  .sframe tr {                                                         padding-left: 10px;                                                padding-right: 38px;                                               padding-top: 14px;                                                 padding-bottom: 14px;                                              border-bottom: 1px solid #E9E9E9;                                  max-height: 0px;                                                   transition: max-height 5s ease-out;                                vertical-align: middle;                                            font-family: HelveticaNeue;                                        font-size: 12px;                                                   line-height: 16.8px;                                               background: #FFFFFF;                                             }                                                                  .sframe tr:hover {                                                   background: silver;                                              },                                                               </style>                                                         </head>                                                            <body>                                                               <h1>  </h1>                                             <table border=\"1\" class=\"dataframe sframe\">\n",
       "  <thead>\n",
       "    <tr style=\"text-align: right;\">\n",
       "      <th></th>\n",
       "      <th>SArray</th>\n",
       "    </tr>\n",
       "  </thead>\n",
       "  <tbody>\n",
       "    <tr>\n",
       "      <th>0</th>\n",
       "      <td><img src=\"data:image/png;base64,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\"/></td>\n",
       "    </tr>\n",
       "  </tbody>\n",
       "</table>                          </body>                                                          </html>"
      ],
      "text/plain": [
       "<IPython.core.display.HTML object>"
      ]
     },
     "metadata": {},
     "output_type": "display_data"
    }
   ],
   "source": [
    "cat = image_test_cat[0:1]\n",
    "cat['image'].explore()"
   ]
  },
  {
   "cell_type": "code",
   "execution_count": 105,
   "id": "be5ee53c",
   "metadata": {},
   "outputs": [
    {
     "data": {
      "text/html": [
       "<pre>Starting brute force nearest neighbors model training.</pre>"
      ],
      "text/plain": [
       "Starting brute force nearest neighbors model training."
      ]
     },
     "metadata": {},
     "output_type": "display_data"
    },
    {
     "data": {
      "text/html": [
       "<pre>Validating distance components.</pre>"
      ],
      "text/plain": [
       "Validating distance components."
      ]
     },
     "metadata": {},
     "output_type": "display_data"
    },
    {
     "data": {
      "text/html": [
       "<pre>Initializing model data.</pre>"
      ],
      "text/plain": [
       "Initializing model data."
      ]
     },
     "metadata": {},
     "output_type": "display_data"
    },
    {
     "data": {
      "text/html": [
       "<pre>Initializing distances.</pre>"
      ],
      "text/plain": [
       "Initializing distances."
      ]
     },
     "metadata": {},
     "output_type": "display_data"
    },
    {
     "data": {
      "text/html": [
       "<pre>Done.</pre>"
      ],
      "text/plain": [
       "Done."
      ]
     },
     "metadata": {},
     "output_type": "display_data"
    }
   ],
   "source": [
    "knn_model = tc.nearest_neighbors.create(image_train, features=['deep_features'], label='id')"
   ]
  },
  {
   "cell_type": "code",
   "execution_count": 106,
   "id": "e44b7f01",
   "metadata": {},
   "outputs": [
    {
     "data": {
      "text/html": [
       "<pre>Starting pairwise querying.</pre>"
      ],
      "text/plain": [
       "Starting pairwise querying."
      ]
     },
     "metadata": {},
     "output_type": "display_data"
    },
    {
     "data": {
      "text/html": [
       "<pre>+--------------+---------+-------------+--------------+</pre>"
      ],
      "text/plain": [
       "+--------------+---------+-------------+--------------+"
      ]
     },
     "metadata": {},
     "output_type": "display_data"
    },
    {
     "data": {
      "text/html": [
       "<pre>| Query points | # Pairs | % Complete. | Elapsed Time |</pre>"
      ],
      "text/plain": [
       "| Query points | # Pairs | % Complete. | Elapsed Time |"
      ]
     },
     "metadata": {},
     "output_type": "display_data"
    },
    {
     "data": {
      "text/html": [
       "<pre>+--------------+---------+-------------+--------------+</pre>"
      ],
      "text/plain": [
       "+--------------+---------+-------------+--------------+"
      ]
     },
     "metadata": {},
     "output_type": "display_data"
    },
    {
     "data": {
      "text/html": [
       "<pre>| 0            | 1       | 0.0498753   | 10.664ms     |</pre>"
      ],
      "text/plain": [
       "| 0            | 1       | 0.0498753   | 10.664ms     |"
      ]
     },
     "metadata": {},
     "output_type": "display_data"
    },
    {
     "data": {
      "text/html": [
       "<pre>| Done         |         | 100         | 77.172ms     |</pre>"
      ],
      "text/plain": [
       "| Done         |         | 100         | 77.172ms     |"
      ]
     },
     "metadata": {},
     "output_type": "display_data"
    },
    {
     "data": {
      "text/html": [
       "<pre>+--------------+---------+-------------+--------------+</pre>"
      ],
      "text/plain": [
       "+--------------+---------+-------------+--------------+"
      ]
     },
     "metadata": {},
     "output_type": "display_data"
    }
   ],
   "source": [
    "cat_neighbors = get_images_from_ids(knn_model.query(cat))"
   ]
  },
  {
   "cell_type": "code",
   "execution_count": 107,
   "id": "ff18dfb7",
   "metadata": {},
   "outputs": [
    {
     "data": {
      "text/html": [
       "<html lang=\"en\">                                                     <head>                                                               <style>                                                              .sframe {                                                            font-size: 12px;                                                   font-family: HelveticaNeue;                                        border: 1px solid silver;                                        }                                                                  .sframe thead th {                                                   background: #F7F7F7;                                               font-family: HelveticaNeue-Medium;                                 font-size: 14px;                                                   line-height: 16.8px;                                               padding-top: 16px;                                                 padding-bottom: 16px;                                              padding-left: 10px;                                                padding-right: 38px;                                               border-top: 1px solid #E9E9E9;                                     border-bottom: 1px solid #E9E9E9;                                  white-space: nowrap;                                               overflow: hidden;                                                  text-overflow:ellipsis;                                            text-align:center;                                                 font-weight:normal;                                              }                                                                  .sframe tbody th {                                                   background: #FFFFFF;                                               text-align:left;                                                   font-weight:normal;                                                border-right: 1px solid #E9E9E9;                                 }                                                                  .sframe td {                                                         background: #FFFFFF;                                               padding-left: 10px;                                                padding-right: 38px;                                               padding-top: 14px;                                                 padding-bottom: 14px;                                              border-bottom: 1px solid #E9E9E9;                                  max-height: 0px;                                                   transition: max-height 5s ease-out;                                vertical-align: middle;                                            font-family: HelveticaNeue;                                        font-size: 12px;                                                   line-height: 16.8px;                                               background: #FFFFFF;                                             }                                                                  .sframe tr {                                                         padding-left: 10px;                                                padding-right: 38px;                                               padding-top: 14px;                                                 padding-bottom: 14px;                                              border-bottom: 1px solid #E9E9E9;                                  max-height: 0px;                                                   transition: max-height 5s ease-out;                                vertical-align: middle;                                            font-family: HelveticaNeue;                                        font-size: 12px;                                                   line-height: 16.8px;                                               background: #FFFFFF;                                             }                                                                  .sframe tr:hover {                                                   background: silver;                                              },                                                               </style>                                                         </head>                                                            <body>                                                               <h1>  </h1>                                             <table border=\"1\" class=\"dataframe sframe\">\n",
       "  <thead>\n",
       "    <tr style=\"text-align: right;\">\n",
       "      <th></th>\n",
       "      <th>SArray</th>\n",
       "    </tr>\n",
       "  </thead>\n",
       "  <tbody>\n",
       "    <tr>\n",
       "      <th>0</th>\n",
       "      <td><img src=\"data:image/png;base64,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\"/></td>\n",
       "    </tr>\n",
       "    <tr>\n",
       "      <th>1</th>\n",
       "      <td><img src=\"data:image/png;base64,iVBORw0KGgoAAAANSUhEUgAAACAAAAAgCAIAAAD8GO2jAAAJHklEQVR4nDWWW29dVxWF55xrrb33udnHx44vx0ns1I1zc1JCQiGQAKIIeKlEeUTiRyGeEOIJUSQqIRBBtDxwb0t6QU1J6tA6ie3YjuNjn+Nz27e15pw8pIw/MIY+jYcP1z97CoAIKMKqEDQoeRHxhQSPzMZZePf263/+zRuuUvvWaz9oNCbzPLVRZNCiM9aYICIsKAiowqKigYP3ZVkWCGABAAAUVEEVwGhWCnCgwMgChNzZ3/v3m7fRmqVLl9rt0+NslNSq1jkQRGOANY4i9iEURVGUcVKl2CCXgJrnafD+eYGqKiIgCHHqKeGAwqQQAOH93/1yWBS11vTlq9e9MBEmyYSiQFAgEgQNTIDGmZgSQOVQgqgh26hPZOmIEBE+DwIAEAijBkRQNHbz7nsbd98XY1cvXWlONlU5ihMCICAyhoCIQDmoMgBEzjlDoSw0BBFVRQD6vAAREdEQuUq9LHxQIcAwHtz5wxvjgFMzs2fXLhY+JfUGUXyBDGSIEAnYEjhLKhqCJ7KVSo0MWQMiARAI/s9IRJwzsZsoCkAwErsHf/njk80twfiLN25aG6mINY4QjY1NZEgZVTn4YTpAhCiKnItA0VqHQGVZBF9EztLz+QBARP96952dJ7vkYhE92lh/929vehevXb1w8swyAZCCdVEUx2gdKAbPirS5uX3nvXeOu504juIoBgRmJkMqaowRkc9fhIhE5v23/7H32d25pYtH3cNKSK/c+HKRD5bPnB2P9sejUf94MNVscVm0T7/gogm0EcYVQBz0D7uHB3OLy74MiCoSOJTVSt0YwxwsPr8nYJalnb2d3vbxk61HrampufOX26eW82I42H/02aNN9mV/5PPZw5mJ+saD8amVc8NRevnlrx8ePD7Vnms0WyIMoKgQvEdQaw2RCd6TqoIqKfd7PcPjiWrt0rlz169ePb/2xfa5L5w8d40wnpuszNTjRr2a+XB27dogk6OnTz69d78xOT15YnlqejmOoicP1zEIABqyleoEGRuEFdEioioouaOjQ1+G1Ssr55cWTqxcdVOzQCiFm2yeMBQePri/NDuNttHv7DUqqiQR+bffekPBgLFlURajbvdoc3phJbJ1H0LgUBY5EVkAEFBS1VF37czMi4uztckJU51AJGtMYaHRmup2nzaaLfS+09mcr40frz9aXHph59lBPLlbrVR8lo2Rp+dPPt7erUydKkdDa0QEHQKRkqoCKHHobK2vnP9CdaYdxod570mZZVme9Y8Otu+/M95/iMKDcT7qj+pVc3phsibp5GTrO6/9qDGzgMydZ/v90ai9vDZ3euXDD+789a9/Up9P1qfTQZ8Q0SBlZTE+2r/05W+2XrjWe7bTe3xnuHe/GI85H467R8GHTq9/d2PbGDo8GjqWkPe+duXF1syJg/1nT/e3O0f7B3vbWeFOzJ68cnUN2BfD0WF3v9s9tIgoor7kRj1CY21SGQyGu5sPG1Pbi+du7m7e5zw7GuYHg6I79GnWRebC54FhenrnYHfn+KBDRM5iRLC5/ohf+dr1b79mcHTvw/eTiYVLa9csAiiAddZVmxDXh6N0u5PnY8jKfjp+a39zd1Dq02Fm0TYT10vzjYNBtWLSUTH09Nbt36ZpbzgsSDmrDGemGK2pVhuQzE3Mr9ZiV6lNWAUwzjx874Pt3c7NuLq7uf3pk14Z8nqkJ1uTBdrecNgdeuaSBWLCsZcoqVFs/vzvx6yP52abT/c7K0tzKjo9HVvP4eHDyxe+OtNe3fr4DnNJAFoM++/eft0k9bhW7T/bIclBYOhx62icoklZi6A5I6EaR3GSxJWKV9rZ6yaVmg8Qx25hYS5OKuloGHxmJhoFjyOrQJEGY00U3/vVz11xtLXJ7/39n7mWc0tnDFrPMugeiJHj4ijzkjjTaFTIxGBslFDWCdbZhXZ7/d5HrWYjiisMsLu3Z2qRay12//GvO//8W6t5SmWWOp/e/+Sd3zdriYz6P/3Jjz/+ZLs2faZgVIULF9ZYiVkRqVavJbXaRKs5zPLHWx3PmCTJ3t5etZosLS8Nx/mDTx+BieqNZtrZ3d34zJXeqeUwpg9+/bNMIRgzV3eBs3v/+eD4eCgY9XqD435vlGaq0KjXq7VaVnJQJINS8uB4ABAii+12+1nnYPdp5+y5K1ev33i2vf2nN37x8UefzC+szs0v+qK0W/fv8vy8MNu6XZhtHPbzjz58e6rVCvk4+NF+51jJ1mrVKIrQRMNhnlhrJ8xgHDgUeTa2JPPzsy9d+dL87DyQ2dlYL3w4d+GlE4snWTDGqu1SEikcZhy76Vdf/d4gGz/c2Hjw4EGlEvUGqSoQqrJfXFw5c/Zic7J5fNT774OPc1mvNSYuX7y4uvqiMzaK4rLIjKXW1ORXbtwKXvJ0EDTYahV/+N1XSs9JHH33e9+fP71koxgE02xc+KLf625tbdZqyfxcu90+SUSgSOQE+PDwqSWqJxVEw8xICApIoKKApIA+S4MEAGP7aeG1fPmrN5fPvggoABokOMtJnJyYXllZWQFlIqeKoBLYBykIcXZmphiPg/fGgHNOVEDVWoeEIsoigcAZh+hsGsKtG7e+dP1lQIlsBdE64zEU7BktiDAoK5GNYlEgsBC8hsDCqKCgzKVoIGNEVBTIGBFWZhWxUYRo7eyJ9s0bN2vVGkaxBOFQosVacyofp8Zag04BCFRRiZBEQUREEI0YIdDgPQkbS4ZAVTjAc0shImMiUbTfuHWrUonLkMeWDJIhyNKhxLExxlqrCCxCQKUvETWUJQGaOEZAA9Yyl5By8CpgjUFEz4qACmCtJUQyhs6vrjpjIxejGkVSS9YZZe8ih4QcPJc5IhCoMlsyJrI2ctZaERVhRI3j2LoIAIuyUFUiQgBECL4gUFutJKiiDGStoKoCkAFfqiqCGtQg3nsLoMagl8DCmHsQ4OBLXyAIIBh0CJjEVSQDABxCWRbBBxG21royH7EvyAKgAVYKGtg/RwmIIsxF5pxDQmGf57kzVlkUFJWfSxuIIBnjIgBUleeeCAjWOUuEzjku02J4THHCwUtZirIvUuOMiLIPQMxsA4cyz4yChACAqh4BmcUZgypoYzSGA6sAIEZxUq3WyVX/B8Phk+xjFqrvAAAAAElFTkSuQmCC\"/></td>\n",
       "    </tr>\n",
       "    <tr>\n",
       "      <th>2</th>\n",
       "      <td><img src=\"data:image/png;base64,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\"/></td>\n",
       "    </tr>\n",
       "    <tr>\n",
       "      <th>3</th>\n",
       "      <td><img src=\"data:image/png;base64,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\"/></td>\n",
       "    </tr>\n",
       "    <tr>\n",
       "      <th>4</th>\n",
       "      <td><img src=\"data:image/png;base64,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\"/></td>\n",
       "    </tr>\n",
       "  </tbody>\n",
       "</table>                          </body>                                                          </html>"
      ],
      "text/plain": [
       "<IPython.core.display.HTML object>"
      ]
     },
     "metadata": {},
     "output_type": "display_data"
    }
   ],
   "source": [
    "cat_neighbors['image'].explore()"
   ]
  },
  {
   "cell_type": "code",
   "execution_count": 108,
   "id": "dc6747a1",
   "metadata": {},
   "outputs": [
    {
     "data": {
      "text/html": [
       "<html lang=\"en\">                                                     <head>                                                               <style>                                                              .sframe {                                                            font-size: 12px;                                                   font-family: HelveticaNeue;                                        border: 1px solid silver;                                        }                                                                  .sframe thead th {                                                   background: #F7F7F7;                                               font-family: HelveticaNeue-Medium;                                 font-size: 14px;                                                   line-height: 16.8px;                                               padding-top: 16px;                                                 padding-bottom: 16px;                                              padding-left: 10px;                                                padding-right: 38px;                                               border-top: 1px solid #E9E9E9;                                     border-bottom: 1px solid #E9E9E9;                                  white-space: nowrap;                                               overflow: hidden;                                                  text-overflow:ellipsis;                                            text-align:center;                                                 font-weight:normal;                                              }                                                                  .sframe tbody th {                                                   background: #FFFFFF;                                               text-align:left;                                                   font-weight:normal;                                                border-right: 1px solid #E9E9E9;                                 }                                                                  .sframe td {                                                         background: #FFFFFF;                                               padding-left: 10px;                                                padding-right: 38px;                                               padding-top: 14px;                                                 padding-bottom: 14px;                                              border-bottom: 1px solid #E9E9E9;                                  max-height: 0px;                                                   transition: max-height 5s ease-out;                                vertical-align: middle;                                            font-family: HelveticaNeue;                                        font-size: 12px;                                                   line-height: 16.8px;                                               background: #FFFFFF;                                             }                                                                  .sframe tr {                                                         padding-left: 10px;                                                padding-right: 38px;                                               padding-top: 14px;                                                 padding-bottom: 14px;                                              border-bottom: 1px solid #E9E9E9;                                  max-height: 0px;                                                   transition: max-height 5s ease-out;                                vertical-align: middle;                                            font-family: HelveticaNeue;                                        font-size: 12px;                                                   line-height: 16.8px;                                               background: #FFFFFF;                                             }                                                                  .sframe tr:hover {                                                   background: silver;                                              },                                                               </style>                                                         </head>                                                            <body>                                                               <h1>  </h1>                                             <table border=\"1\" class=\"dataframe sframe\">\n",
       "  <thead>\n",
       "    <tr style=\"text-align: right;\">\n",
       "      <th></th>\n",
       "      <th>SArray</th>\n",
       "    </tr>\n",
       "  </thead>\n",
       "  <tbody>\n",
       "    <tr>\n",
       "      <th>0</th>\n",
       "      <td><img src=\"data:image/png;base64,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\"/></td>\n",
       "    </tr>\n",
       "  </tbody>\n",
       "</table>                          </body>                                                          </html>"
      ],
      "text/plain": [
       "<IPython.core.display.HTML object>"
      ]
     },
     "metadata": {},
     "output_type": "display_data"
    }
   ],
   "source": [
    "dog = image_test_dog[0:1]\n",
    "dog['image'].explore()"
   ]
  },
  {
   "cell_type": "code",
   "execution_count": 111,
   "id": "5cf3cd15",
   "metadata": {},
   "outputs": [
    {
     "data": {
      "text/html": [
       "<pre>Starting pairwise querying.</pre>"
      ],
      "text/plain": [
       "Starting pairwise querying."
      ]
     },
     "metadata": {},
     "output_type": "display_data"
    },
    {
     "data": {
      "text/html": [
       "<pre>+--------------+---------+-------------+--------------+</pre>"
      ],
      "text/plain": [
       "+--------------+---------+-------------+--------------+"
      ]
     },
     "metadata": {},
     "output_type": "display_data"
    },
    {
     "data": {
      "text/html": [
       "<pre>| Query points | # Pairs | % Complete. | Elapsed Time |</pre>"
      ],
      "text/plain": [
       "| Query points | # Pairs | % Complete. | Elapsed Time |"
      ]
     },
     "metadata": {},
     "output_type": "display_data"
    },
    {
     "data": {
      "text/html": [
       "<pre>+--------------+---------+-------------+--------------+</pre>"
      ],
      "text/plain": [
       "+--------------+---------+-------------+--------------+"
      ]
     },
     "metadata": {},
     "output_type": "display_data"
    },
    {
     "data": {
      "text/html": [
       "<pre>| 0            | 1       | 0.0498753   | 10.825ms     |</pre>"
      ],
      "text/plain": [
       "| 0            | 1       | 0.0498753   | 10.825ms     |"
      ]
     },
     "metadata": {},
     "output_type": "display_data"
    },
    {
     "data": {
      "text/html": [
       "<pre>| Done         |         | 100         | 78.567ms     |</pre>"
      ],
      "text/plain": [
       "| Done         |         | 100         | 78.567ms     |"
      ]
     },
     "metadata": {},
     "output_type": "display_data"
    },
    {
     "data": {
      "text/html": [
       "<pre>+--------------+---------+-------------+--------------+</pre>"
      ],
      "text/plain": [
       "+--------------+---------+-------------+--------------+"
      ]
     },
     "metadata": {},
     "output_type": "display_data"
    }
   ],
   "source": [
    "dog_neighbors = get_images_from_ids(knn_model.query(dog))"
   ]
  },
  {
   "cell_type": "code",
   "execution_count": 112,
   "id": "71659b2d",
   "metadata": {},
   "outputs": [
    {
     "data": {
      "text/html": [
       "<html lang=\"en\">                                                     <head>                                                               <style>                                                              .sframe {                                                            font-size: 12px;                                                   font-family: HelveticaNeue;                                        border: 1px solid silver;                                        }                                                                  .sframe thead th {                                                   background: #F7F7F7;                                               font-family: HelveticaNeue-Medium;                                 font-size: 14px;                                                   line-height: 16.8px;                                               padding-top: 16px;                                                 padding-bottom: 16px;                                              padding-left: 10px;                                                padding-right: 38px;                                               border-top: 1px solid #E9E9E9;                                     border-bottom: 1px solid #E9E9E9;                                  white-space: nowrap;                                               overflow: hidden;                                                  text-overflow:ellipsis;                                            text-align:center;                                                 font-weight:normal;                                              }                                                                  .sframe tbody th {                                                   background: #FFFFFF;                                               text-align:left;                                                   font-weight:normal;                                                border-right: 1px solid #E9E9E9;                                 }                                                                  .sframe td {                                                         background: #FFFFFF;                                               padding-left: 10px;                                                padding-right: 38px;                                               padding-top: 14px;                                                 padding-bottom: 14px;                                              border-bottom: 1px solid #E9E9E9;                                  max-height: 0px;                                                   transition: max-height 5s ease-out;                                vertical-align: middle;                                            font-family: HelveticaNeue;                                        font-size: 12px;                                                   line-height: 16.8px;                                               background: #FFFFFF;                                             }                                                                  .sframe tr {                                                         padding-left: 10px;                                                padding-right: 38px;                                               padding-top: 14px;                                                 padding-bottom: 14px;                                              border-bottom: 1px solid #E9E9E9;                                  max-height: 0px;                                                   transition: max-height 5s ease-out;                                vertical-align: middle;                                            font-family: HelveticaNeue;                                        font-size: 12px;                                                   line-height: 16.8px;                                               background: #FFFFFF;                                             }                                                                  .sframe tr:hover {                                                   background: silver;                                              },                                                               </style>                                                         </head>                                                            <body>                                                               <h1>  </h1>                                             <table border=\"1\" class=\"dataframe sframe\">\n",
       "  <thead>\n",
       "    <tr style=\"text-align: right;\">\n",
       "      <th></th>\n",
       "      <th>SArray</th>\n",
       "    </tr>\n",
       "  </thead>\n",
       "  <tbody>\n",
       "    <tr>\n",
       "      <th>0</th>\n",
       "      <td><img src=\"data:image/png;base64,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\"/></td>\n",
       "    </tr>\n",
       "    <tr>\n",
       "      <th>1</th>\n",
       "      <td><img src=\"data:image/png;base64,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\"/></td>\n",
       "    </tr>\n",
       "    <tr>\n",
       "      <th>2</th>\n",
       "      <td><img src=\"data:image/png;base64,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\"/></td>\n",
       "    </tr>\n",
       "    <tr>\n",
       "      <th>3</th>\n",
       "      <td><img src=\"data:image/png;base64,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\"/></td>\n",
       "    </tr>\n",
       "    <tr>\n",
       "      <th>4</th>\n",
       "      <td><img src=\"data:image/png;base64,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\"/></td>\n",
       "    </tr>\n",
       "  </tbody>\n",
       "</table>                          </body>                                                          </html>"
      ],
      "text/plain": [
       "<IPython.core.display.HTML object>"
      ]
     },
     "metadata": {},
     "output_type": "display_data"
    }
   ],
   "source": [
    "dog_neighbors['image'].explore()"
   ]
  },
  {
   "cell_type": "code",
   "execution_count": 113,
   "id": "d1502cc5",
   "metadata": {},
   "outputs": [
    {
     "data": {
      "text/html": [
       "<div style=\"max-height:1000px;max-width:1500px;overflow:auto;\"><table frame=\"box\" rules=\"cols\">\n",
       "    <tr>\n",
       "        <th style=\"padding-left: 1em; padding-right: 1em; text-align: center\">id</th>\n",
       "        <th style=\"padding-left: 1em; padding-right: 1em; text-align: center\">image</th>\n",
       "        <th style=\"padding-left: 1em; padding-right: 1em; text-align: center\">label</th>\n",
       "        <th style=\"padding-left: 1em; padding-right: 1em; text-align: center\">deep_features</th>\n",
       "        <th style=\"padding-left: 1em; padding-right: 1em; text-align: center\">image_array</th>\n",
       "    </tr>\n",
       "    <tr>\n",
       "        <td style=\"padding-left: 1em; padding-right: 1em; text-align: center; vertical-align: top\">331</td>\n",
       "        <td style=\"padding-left: 1em; padding-right: 1em; text-align: center; vertical-align: top\">Height: 32 Width: 32</td>\n",
       "        <td style=\"padding-left: 1em; padding-right: 1em; text-align: center; vertical-align: top\">cat</td>\n",
       "        <td style=\"padding-left: 1em; padding-right: 1em; text-align: center; vertical-align: top\">[0.0, 0.0,<br>0.5109639167785645, 0.0, ...</td>\n",
       "        <td style=\"padding-left: 1em; padding-right: 1em; text-align: center; vertical-align: top\">[45.0, 65.0, 92.0, 72.0,<br>95.0, 110.0, 106.0, ...</td>\n",
       "    </tr>\n",
       "    <tr>\n",
       "        <td style=\"padding-left: 1em; padding-right: 1em; text-align: center; vertical-align: top\">16289</td>\n",
       "        <td style=\"padding-left: 1em; padding-right: 1em; text-align: center; vertical-align: top\">Height: 32 Width: 32</td>\n",
       "        <td style=\"padding-left: 1em; padding-right: 1em; text-align: center; vertical-align: top\">cat</td>\n",
       "        <td style=\"padding-left: 1em; padding-right: 1em; text-align: center; vertical-align: top\">[0.964287519454956, 0.0,<br>0.0, 0.0, ...</td>\n",
       "        <td style=\"padding-left: 1em; padding-right: 1em; text-align: center; vertical-align: top\">[215.0, 219.0, 231.0,<br>215.0, 219.0, 232.0, ...</td>\n",
       "    </tr>\n",
       "    <tr>\n",
       "        <td style=\"padding-left: 1em; padding-right: 1em; text-align: center; vertical-align: top\">25713</td>\n",
       "        <td style=\"padding-left: 1em; padding-right: 1em; text-align: center; vertical-align: top\">Height: 32 Width: 32</td>\n",
       "        <td style=\"padding-left: 1em; padding-right: 1em; text-align: center; vertical-align: top\">cat</td>\n",
       "        <td style=\"padding-left: 1em; padding-right: 1em; text-align: center; vertical-align: top\">[0.5369712710380554, 0.0,<br>0.0, 0.08944588899612 ...</td>\n",
       "        <td style=\"padding-left: 1em; padding-right: 1em; text-align: center; vertical-align: top\">[228.0, 222.0, 236.0,<br>224.0, 213.0, 222.0, ...</td>\n",
       "    </tr>\n",
       "    <tr>\n",
       "        <td style=\"padding-left: 1em; padding-right: 1em; text-align: center; vertical-align: top\">32139</td>\n",
       "        <td style=\"padding-left: 1em; padding-right: 1em; text-align: center; vertical-align: top\">Height: 32 Width: 32</td>\n",
       "        <td style=\"padding-left: 1em; padding-right: 1em; text-align: center; vertical-align: top\">cat</td>\n",
       "        <td style=\"padding-left: 1em; padding-right: 1em; text-align: center; vertical-align: top\">[1.2940946817398071, 0.0,<br>0.0, 0.5138002634048462, ...</td>\n",
       "        <td style=\"padding-left: 1em; padding-right: 1em; text-align: center; vertical-align: top\">[217.0, 220.0, 205.0,<br>221.0, 227.0, 218.0, ...</td>\n",
       "    </tr>\n",
       "    <tr>\n",
       "        <td style=\"padding-left: 1em; padding-right: 1em; text-align: center; vertical-align: top\">45646</td>\n",
       "        <td style=\"padding-left: 1em; padding-right: 1em; text-align: center; vertical-align: top\">Height: 32 Width: 32</td>\n",
       "        <td style=\"padding-left: 1em; padding-right: 1em; text-align: center; vertical-align: top\">cat</td>\n",
       "        <td style=\"padding-left: 1em; padding-right: 1em; text-align: center; vertical-align: top\">[0.9836775064468384, 0.0,<br>0.0, 0.0, 0.0, ...</td>\n",
       "        <td style=\"padding-left: 1em; padding-right: 1em; text-align: center; vertical-align: top\">[51.0, 42.0, 26.0, 56.0,<br>47.0, 31.0, 59.0, 50.0, ...</td>\n",
       "    </tr>\n",
       "</table>\n",
       "[5 rows x 5 columns]<br/>\n",
       "</div>"
      ],
      "text/plain": [
       "Columns:\n",
       "\tid\tint\n",
       "\timage\tImage\n",
       "\tlabel\tstr\n",
       "\tdeep_features\tarray\n",
       "\timage_array\tarray\n",
       "\n",
       "Rows: 5\n",
       "\n",
       "Data:\n",
       "+-------+----------------------+-------+-------------------------------+\n",
       "|   id  |        image         | label |         deep_features         |\n",
       "+-------+----------------------+-------+-------------------------------+\n",
       "|  331  | Height: 32 Width: 32 |  cat  | [0.0, 0.0, 0.5109639167785... |\n",
       "| 16289 | Height: 32 Width: 32 |  cat  | [0.964287519454956, 0.0, 0... |\n",
       "| 25713 | Height: 32 Width: 32 |  cat  | [0.5369712710380554, 0.0, ... |\n",
       "| 32139 | Height: 32 Width: 32 |  cat  | [1.2940946817398071, 0.0, ... |\n",
       "| 45646 | Height: 32 Width: 32 |  cat  | [0.9836775064468384, 0.0, ... |\n",
       "+-------+----------------------+-------+-------------------------------+\n",
       "+-------------------------------+\n",
       "|          image_array          |\n",
       "+-------------------------------+\n",
       "| [45.0, 65.0, 92.0, 72.0, 9... |\n",
       "| [215.0, 219.0, 231.0, 215.... |\n",
       "| [228.0, 222.0, 236.0, 224.... |\n",
       "| [217.0, 220.0, 205.0, 221.... |\n",
       "| [51.0, 42.0, 26.0, 56.0, 4... |\n",
       "+-------------------------------+\n",
       "[5 rows x 5 columns]"
      ]
     },
     "execution_count": 113,
     "metadata": {},
     "output_type": "execute_result"
    }
   ],
   "source": [
    "cat_neighbors"
   ]
  },
  {
   "cell_type": "code",
   "execution_count": 115,
   "id": "ba3e49c8",
   "metadata": {},
   "outputs": [
    {
     "data": {
      "text/html": [
       "<pre>Starting pairwise querying.</pre>"
      ],
      "text/plain": [
       "Starting pairwise querying."
      ]
     },
     "metadata": {},
     "output_type": "display_data"
    },
    {
     "data": {
      "text/html": [
       "<pre>+--------------+---------+-------------+--------------+</pre>"
      ],
      "text/plain": [
       "+--------------+---------+-------------+--------------+"
      ]
     },
     "metadata": {},
     "output_type": "display_data"
    },
    {
     "data": {
      "text/html": [
       "<pre>| Query points | # Pairs | % Complete. | Elapsed Time |</pre>"
      ],
      "text/plain": [
       "| Query points | # Pairs | % Complete. | Elapsed Time |"
      ]
     },
     "metadata": {},
     "output_type": "display_data"
    },
    {
     "data": {
      "text/html": [
       "<pre>+--------------+---------+-------------+--------------+</pre>"
      ],
      "text/plain": [
       "+--------------+---------+-------------+--------------+"
      ]
     },
     "metadata": {},
     "output_type": "display_data"
    },
    {
     "data": {
      "text/html": [
       "<pre>| 0            | 1       | 0.0498753   | 13.893ms     |</pre>"
      ],
      "text/plain": [
       "| 0            | 1       | 0.0498753   | 13.893ms     |"
      ]
     },
     "metadata": {},
     "output_type": "display_data"
    },
    {
     "data": {
      "text/html": [
       "<pre>| Done         |         | 100         | 81.608ms     |</pre>"
      ],
      "text/plain": [
       "| Done         |         | 100         | 81.608ms     |"
      ]
     },
     "metadata": {},
     "output_type": "display_data"
    },
    {
     "data": {
      "text/html": [
       "<pre>+--------------+---------+-------------+--------------+</pre>"
      ],
      "text/plain": [
       "+--------------+---------+-------------+--------------+"
      ]
     },
     "metadata": {},
     "output_type": "display_data"
    },
    {
     "data": {
      "text/html": [
       "<div style=\"max-height:1000px;max-width:1500px;overflow:auto;\"><table frame=\"box\" rules=\"cols\">\n",
       "    <tr>\n",
       "        <th style=\"padding-left: 1em; padding-right: 1em; text-align: center\">query_label</th>\n",
       "        <th style=\"padding-left: 1em; padding-right: 1em; text-align: center\">reference_label</th>\n",
       "        <th style=\"padding-left: 1em; padding-right: 1em; text-align: center\">distance</th>\n",
       "        <th style=\"padding-left: 1em; padding-right: 1em; text-align: center\">rank</th>\n",
       "    </tr>\n",
       "    <tr>\n",
       "        <td style=\"padding-left: 1em; padding-right: 1em; text-align: center; vertical-align: top\">0</td>\n",
       "        <td style=\"padding-left: 1em; padding-right: 1em; text-align: center; vertical-align: top\">16289</td>\n",
       "        <td style=\"padding-left: 1em; padding-right: 1em; text-align: center; vertical-align: top\">34.62371920804245</td>\n",
       "        <td style=\"padding-left: 1em; padding-right: 1em; text-align: center; vertical-align: top\">1</td>\n",
       "    </tr>\n",
       "    <tr>\n",
       "        <td style=\"padding-left: 1em; padding-right: 1em; text-align: center; vertical-align: top\">0</td>\n",
       "        <td style=\"padding-left: 1em; padding-right: 1em; text-align: center; vertical-align: top\">45646</td>\n",
       "        <td style=\"padding-left: 1em; padding-right: 1em; text-align: center; vertical-align: top\">36.00687992842462</td>\n",
       "        <td style=\"padding-left: 1em; padding-right: 1em; text-align: center; vertical-align: top\">2</td>\n",
       "    </tr>\n",
       "    <tr>\n",
       "        <td style=\"padding-left: 1em; padding-right: 1em; text-align: center; vertical-align: top\">0</td>\n",
       "        <td style=\"padding-left: 1em; padding-right: 1em; text-align: center; vertical-align: top\">32139</td>\n",
       "        <td style=\"padding-left: 1em; padding-right: 1em; text-align: center; vertical-align: top\">36.52008134363789</td>\n",
       "        <td style=\"padding-left: 1em; padding-right: 1em; text-align: center; vertical-align: top\">3</td>\n",
       "    </tr>\n",
       "    <tr>\n",
       "        <td style=\"padding-left: 1em; padding-right: 1em; text-align: center; vertical-align: top\">0</td>\n",
       "        <td style=\"padding-left: 1em; padding-right: 1em; text-align: center; vertical-align: top\">25713</td>\n",
       "        <td style=\"padding-left: 1em; padding-right: 1em; text-align: center; vertical-align: top\">36.754850252057054</td>\n",
       "        <td style=\"padding-left: 1em; padding-right: 1em; text-align: center; vertical-align: top\">4</td>\n",
       "    </tr>\n",
       "    <tr>\n",
       "        <td style=\"padding-left: 1em; padding-right: 1em; text-align: center; vertical-align: top\">0</td>\n",
       "        <td style=\"padding-left: 1em; padding-right: 1em; text-align: center; vertical-align: top\">331</td>\n",
       "        <td style=\"padding-left: 1em; padding-right: 1em; text-align: center; vertical-align: top\">36.87312281675268</td>\n",
       "        <td style=\"padding-left: 1em; padding-right: 1em; text-align: center; vertical-align: top\">5</td>\n",
       "    </tr>\n",
       "</table>\n",
       "[5 rows x 4 columns]<br/>\n",
       "</div>"
      ],
      "text/plain": [
       "Columns:\n",
       "\tquery_label\tint\n",
       "\treference_label\tint\n",
       "\tdistance\tfloat\n",
       "\trank\tint\n",
       "\n",
       "Rows: 5\n",
       "\n",
       "Data:\n",
       "+-------------+-----------------+--------------------+------+\n",
       "| query_label | reference_label |      distance      | rank |\n",
       "+-------------+-----------------+--------------------+------+\n",
       "|      0      |      16289      | 34.62371920804245  |  1   |\n",
       "|      0      |      45646      | 36.00687992842462  |  2   |\n",
       "|      0      |      32139      | 36.52008134363789  |  3   |\n",
       "|      0      |      25713      | 36.754850252057054 |  4   |\n",
       "|      0      |       331       | 36.87312281675268  |  5   |\n",
       "+-------------+-----------------+--------------------+------+\n",
       "[5 rows x 4 columns]"
      ]
     },
     "execution_count": 115,
     "metadata": {},
     "output_type": "execute_result"
    }
   ],
   "source": [
    "knn_model.query(cat)\n"
   ]
  },
  {
   "cell_type": "code",
   "execution_count": 116,
   "id": "607891b7",
   "metadata": {},
   "outputs": [
    {
     "data": {
      "text/html": [
       "<pre>Starting pairwise querying.</pre>"
      ],
      "text/plain": [
       "Starting pairwise querying."
      ]
     },
     "metadata": {},
     "output_type": "display_data"
    },
    {
     "data": {
      "text/html": [
       "<pre>+--------------+---------+-------------+--------------+</pre>"
      ],
      "text/plain": [
       "+--------------+---------+-------------+--------------+"
      ]
     },
     "metadata": {},
     "output_type": "display_data"
    },
    {
     "data": {
      "text/html": [
       "<pre>| Query points | # Pairs | % Complete. | Elapsed Time |</pre>"
      ],
      "text/plain": [
       "| Query points | # Pairs | % Complete. | Elapsed Time |"
      ]
     },
     "metadata": {},
     "output_type": "display_data"
    },
    {
     "data": {
      "text/html": [
       "<pre>+--------------+---------+-------------+--------------+</pre>"
      ],
      "text/plain": [
       "+--------------+---------+-------------+--------------+"
      ]
     },
     "metadata": {},
     "output_type": "display_data"
    },
    {
     "data": {
      "text/html": [
       "<pre>| 0            | 1       | 0.0498753   | 12.511ms     |</pre>"
      ],
      "text/plain": [
       "| 0            | 1       | 0.0498753   | 12.511ms     |"
      ]
     },
     "metadata": {},
     "output_type": "display_data"
    },
    {
     "data": {
      "text/html": [
       "<pre>| Done         |         | 100         | 85.867ms     |</pre>"
      ],
      "text/plain": [
       "| Done         |         | 100         | 85.867ms     |"
      ]
     },
     "metadata": {},
     "output_type": "display_data"
    },
    {
     "data": {
      "text/html": [
       "<pre>+--------------+---------+-------------+--------------+</pre>"
      ],
      "text/plain": [
       "+--------------+---------+-------------+--------------+"
      ]
     },
     "metadata": {},
     "output_type": "display_data"
    },
    {
     "data": {
      "text/html": [
       "<div style=\"max-height:1000px;max-width:1500px;overflow:auto;\"><table frame=\"box\" rules=\"cols\">\n",
       "    <tr>\n",
       "        <th style=\"padding-left: 1em; padding-right: 1em; text-align: center\">query_label</th>\n",
       "        <th style=\"padding-left: 1em; padding-right: 1em; text-align: center\">reference_label</th>\n",
       "        <th style=\"padding-left: 1em; padding-right: 1em; text-align: center\">distance</th>\n",
       "        <th style=\"padding-left: 1em; padding-right: 1em; text-align: center\">rank</th>\n",
       "    </tr>\n",
       "    <tr>\n",
       "        <td style=\"padding-left: 1em; padding-right: 1em; text-align: center; vertical-align: top\">0</td>\n",
       "        <td style=\"padding-left: 1em; padding-right: 1em; text-align: center; vertical-align: top\">49803</td>\n",
       "        <td style=\"padding-left: 1em; padding-right: 1em; text-align: center; vertical-align: top\">33.47735903726341</td>\n",
       "        <td style=\"padding-left: 1em; padding-right: 1em; text-align: center; vertical-align: top\">1</td>\n",
       "    </tr>\n",
       "    <tr>\n",
       "        <td style=\"padding-left: 1em; padding-right: 1em; text-align: center; vertical-align: top\">0</td>\n",
       "        <td style=\"padding-left: 1em; padding-right: 1em; text-align: center; vertical-align: top\">21235</td>\n",
       "        <td style=\"padding-left: 1em; padding-right: 1em; text-align: center; vertical-align: top\">34.41522159902278</td>\n",
       "        <td style=\"padding-left: 1em; padding-right: 1em; text-align: center; vertical-align: top\">2</td>\n",
       "    </tr>\n",
       "    <tr>\n",
       "        <td style=\"padding-left: 1em; padding-right: 1em; text-align: center; vertical-align: top\">0</td>\n",
       "        <td style=\"padding-left: 1em; padding-right: 1em; text-align: center; vertical-align: top\">23803</td>\n",
       "        <td style=\"padding-left: 1em; padding-right: 1em; text-align: center; vertical-align: top\">34.813863006141204</td>\n",
       "        <td style=\"padding-left: 1em; padding-right: 1em; text-align: center; vertical-align: top\">3</td>\n",
       "    </tr>\n",
       "    <tr>\n",
       "        <td style=\"padding-left: 1em; padding-right: 1em; text-align: center; vertical-align: top\">0</td>\n",
       "        <td style=\"padding-left: 1em; padding-right: 1em; text-align: center; vertical-align: top\">41752</td>\n",
       "        <td style=\"padding-left: 1em; padding-right: 1em; text-align: center; vertical-align: top\">34.928931346762944</td>\n",
       "        <td style=\"padding-left: 1em; padding-right: 1em; text-align: center; vertical-align: top\">4</td>\n",
       "    </tr>\n",
       "    <tr>\n",
       "        <td style=\"padding-left: 1em; padding-right: 1em; text-align: center; vertical-align: top\">0</td>\n",
       "        <td style=\"padding-left: 1em; padding-right: 1em; text-align: center; vertical-align: top\">33</td>\n",
       "        <td style=\"padding-left: 1em; padding-right: 1em; text-align: center; vertical-align: top\">36.41960770675445</td>\n",
       "        <td style=\"padding-left: 1em; padding-right: 1em; text-align: center; vertical-align: top\">5</td>\n",
       "    </tr>\n",
       "</table>\n",
       "[5 rows x 4 columns]<br/>\n",
       "</div>"
      ],
      "text/plain": [
       "Columns:\n",
       "\tquery_label\tint\n",
       "\treference_label\tint\n",
       "\tdistance\tfloat\n",
       "\trank\tint\n",
       "\n",
       "Rows: 5\n",
       "\n",
       "Data:\n",
       "+-------------+-----------------+--------------------+------+\n",
       "| query_label | reference_label |      distance      | rank |\n",
       "+-------------+-----------------+--------------------+------+\n",
       "|      0      |      49803      | 33.47735903726341  |  1   |\n",
       "|      0      |      21235      | 34.41522159902278  |  2   |\n",
       "|      0      |      23803      | 34.813863006141204 |  3   |\n",
       "|      0      |      41752      | 34.928931346762944 |  4   |\n",
       "|      0      |        33       | 36.41960770675445  |  5   |\n",
       "+-------------+-----------------+--------------------+------+\n",
       "[5 rows x 4 columns]"
      ]
     },
     "execution_count": 116,
     "metadata": {},
     "output_type": "execute_result"
    }
   ],
   "source": [
    "knn_model.query(dog)"
   ]
  },
  {
   "cell_type": "code",
   "execution_count": null,
   "id": "1a294e4b",
   "metadata": {},
   "outputs": [],
   "source": []
  }
 ],
 "metadata": {
  "kernelspec": {
   "display_name": "Python 3 (ipykernel)",
   "language": "python",
   "name": "python3"
  },
  "language_info": {
   "codemirror_mode": {
    "name": "ipython",
    "version": 3
   },
   "file_extension": ".py",
   "mimetype": "text/x-python",
   "name": "python",
   "nbconvert_exporter": "python",
   "pygments_lexer": "ipython3",
   "version": "3.8.10"
  }
 },
 "nbformat": 4,
 "nbformat_minor": 5
}
